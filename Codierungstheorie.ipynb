{
 "cells": [
  {
   "cell_type": "markdown",
   "metadata": {},
   "source": [
    "Created by Olivia Williams, FFHS 19"
   ]
  },
  {
   "cell_type": "markdown",
   "metadata": {},
   "source": [
    "# Teil 3 der Semesterarbeit: Codierungstheorie"
   ]
  },
  {
   "cell_type": "markdown",
   "metadata": {},
   "source": [
    "Import der Library numpy, um mit Matrizen rechnen zu können."
   ]
  },
  {
   "cell_type": "code",
   "execution_count": 1,
   "metadata": {},
   "outputs": [],
   "source": [
    "import numpy as np"
   ]
  },
  {
   "cell_type": "markdown",
   "metadata": {},
   "source": [
    "Anhand des Venn-Diagramm soll von einem Hamming Code (7,4) die Generatormatrix und die zugehörige Prüfmatrix erstellt werden. Anschliessend wird erfolgreich codiert und decodiert. Des Weiteren soll ein Beispiel eines verfälschten codierten Wortes gezeigt werden (beispielsweise Fehler bei der Datenübertragung) und wie anhand des Fehlers die Korrektur vorgenommen werden kann."
   ]
  },
  {
   "attachments": {
    "venn_diagramm.png": {
     "image/png": "[encoded data removed]"
    }
   },
   "cell_type": "markdown",
   "metadata": {},
   "source": [
    "![venn_diagramm.png](attachment:venn_diagramm.png)"
   ]
  },
  {
   "cell_type": "markdown",
   "metadata": {},
   "source": [
    "Der Code ist 7 bit lang, davon sind 4 die Daten-Bits und 3 davon sind die Parity-Bits. Die Daten-Bits tragen die eigentlich zu lesende Information, die Parity-Bits werden für die Überprüfung der Daten-Bits verwendet, um zu sehen, ob diese korrekt vom Sender zum Empfänger übermittelt wurden."
   ]
  },
  {
   "cell_type": "markdown",
   "metadata": {},
   "source": [
    "Im Venn-Diagramm ist zu erkennen, dass jedes Parity-Bit einen Kreis formt und für bestimmte Daten-Bits zuständig ist. Parity-Bit p1 kontrolliert Daten-Bit d1, d2 und d4, Parity-Bit p2 kontrolliert Daten-Bit d2, d3 und d4, Parity-Bit p3 kontrolliert Daten-Bit d1, d3 und d4."
   ]
  },
  {
   "cell_type": "markdown",
   "metadata": {},
   "source": [
    "Anhand dieser Informationen kann nun die Generatormatrix erstellt werden."
   ]
  },
  {
   "cell_type": "markdown",
   "metadata": {},
   "source": [
    "# Die Generatormatrix"
   ]
  },
  {
   "cell_type": "markdown",
   "metadata": {},
   "source": [
    "Da es sich um einen Hamming Code (7,4) handelt, hat die Generatomatrix 4 Spalten und 7 Zeilen. Die ersten vier Spalten werden mit der Identitätsmatrix besetzt. Die Identitätsmatrix sorgt hier dafür, dass das Codewort selbst sich in der Nachricht repräsentieren kann. Denn eine Multiplikation mit der Identitätsmatrix ergibt sich selbst als Resultat."
   ]
  },
  {
   "cell_type": "code",
   "execution_count": 2,
   "metadata": {},
   "outputs": [],
   "source": [
    "array_gen_id = np.identity(4)"
   ]
  },
  {
   "cell_type": "code",
   "execution_count": 3,
   "metadata": {},
   "outputs": [
    {
     "name": "stdout",
     "output_type": "stream",
     "text": [
      "[[1. 0. 0. 0.]\n",
      " [0. 1. 0. 0.]\n",
      " [0. 0. 1. 0.]\n",
      " [0. 0. 0. 1.]]\n"
     ]
    }
   ],
   "source": [
    "print(array_gen_id)"
   ]
  },
  {
   "cell_type": "markdown",
   "metadata": {},
   "source": [
    "Anschliessend wird die Matrix um drei Zeilen erweitert. Diese drei hinzugefügten Zeilen tragen entsprechend dem Venn-Diagramm eine eins an den bestimmen Stellen. Die erste Zeile enstspricht p1, dass heisst der Eintrag lautet (1,1,0,1). Weshalb? Gemäss dem Venn-Diagramm ist d3 nicht im Kreis von p1 und daher enthält die Stelle der Zeile eine null. So wird auch mit den nächsten zwei Zeilen fortgefahren: (0,1,1,1) und (1,0,1,1).\n",
    "Insgesamt wird also die Matrix um die Einträge (1,1,0,1), (0,1,1,1) und (1,0,1,1) erweitert. Axis=0 bedeutet, dass es sich hier um Zeilen handelt. Axis=1 wären dann die Spalten."
   ]
  },
  {
   "cell_type": "code",
   "execution_count": 4,
   "metadata": {},
   "outputs": [],
   "source": [
    "array_gen = np.append(array_gen_id, [[1, 1, 0, 1],[0, 1, 1, 1],[1, 0, 1, 1]], axis=0)"
   ]
  },
  {
   "cell_type": "code",
   "execution_count": 5,
   "metadata": {},
   "outputs": [
    {
     "name": "stdout",
     "output_type": "stream",
     "text": [
      "[[1. 0. 0. 0.]\n",
      " [0. 1. 0. 0.]\n",
      " [0. 0. 1. 0.]\n",
      " [0. 0. 0. 1.]\n",
      " [1. 1. 0. 1.]\n",
      " [0. 1. 1. 1.]\n",
      " [1. 0. 1. 1.]]\n"
     ]
    }
   ],
   "source": [
    "print(array_gen)"
   ]
  },
  {
   "cell_type": "markdown",
   "metadata": {},
   "source": [
    "# Die Prüfmatrix"
   ]
  },
  {
   "cell_type": "markdown",
   "metadata": {},
   "source": [
    "Die Prüfmatrix hat 7 Spalten und 3 Zeilen. 7 Zeilen müssen es sein, da das codierte Wort ebenfalls derselben Länge entspricht, was ja für die Multipikation vorgegeben werden muss, ansonsten würde die Matrix Multiplikation nicht funktionieren. "
   ]
  },
  {
   "cell_type": "markdown",
   "metadata": {},
   "source": [
    "Um die Prüfmatrix aufzubauen werden separat zwei Matrizen gebildet und dann zusammengefügt. Die erste Matrix entspricht den hinzugefügten Zeilen aus der Generatormatrix (1,1,0,1), (0,1,1,1) und (1,0,1,1). Die zweite Matrix entspricht der Identitätsmatrix."
   ]
  },
  {
   "cell_type": "markdown",
   "metadata": {},
   "source": [
    "Zuerst wird die erste Matrix mit 0 erstellt."
   ]
  },
  {
   "cell_type": "code",
   "execution_count": 6,
   "metadata": {},
   "outputs": [],
   "source": [
    "array_pruef1 = np.zeros((3,4))"
   ]
  },
  {
   "cell_type": "code",
   "execution_count": 7,
   "metadata": {},
   "outputs": [
    {
     "name": "stdout",
     "output_type": "stream",
     "text": [
      "[[0. 0. 0. 0.]\n",
      " [0. 0. 0. 0.]\n",
      " [0. 0. 0. 0.]]\n"
     ]
    }
   ],
   "source": [
    "print(array_pruef1)"
   ]
  },
  {
   "cell_type": "markdown",
   "metadata": {},
   "source": [
    "Der ersten Matrix werden dann die oben erwähnten Zeilen hinzugefügt."
   ]
  },
  {
   "cell_type": "code",
   "execution_count": 8,
   "metadata": {},
   "outputs": [],
   "source": [
    "array_pruef1_added = np.append(array_pruef1, [[1, 1, 0, 1],[0, 1, 1, 1],[1, 0, 1, 1]], axis=0)"
   ]
  },
  {
   "cell_type": "code",
   "execution_count": 9,
   "metadata": {},
   "outputs": [
    {
     "name": "stdout",
     "output_type": "stream",
     "text": [
      "[[0. 0. 0. 0.]\n",
      " [0. 0. 0. 0.]\n",
      " [0. 0. 0. 0.]\n",
      " [1. 1. 0. 1.]\n",
      " [0. 1. 1. 1.]\n",
      " [1. 0. 1. 1.]]\n"
     ]
    }
   ],
   "source": [
    "print(array_pruef1_added)"
   ]
  },
  {
   "cell_type": "markdown",
   "metadata": {},
   "source": [
    "Anschliessend werden die ersten drei Zeilen wieder entfernt. Die erste 0 entspricht der ersten Zeile und die zweite 0 gibt an, dass es sich um Zeilen handelt. Mit einer 1 könnten also auch Spalten manipuliert werden."
   ]
  },
  {
   "cell_type": "code",
   "execution_count": 10,
   "metadata": {},
   "outputs": [],
   "source": [
    "a_del = np.delete(array_pruef1_added, 0, 0)"
   ]
  },
  {
   "cell_type": "code",
   "execution_count": 11,
   "metadata": {},
   "outputs": [],
   "source": [
    "a_del = np.delete(a_del, 0, 0)"
   ]
  },
  {
   "cell_type": "code",
   "execution_count": 12,
   "metadata": {},
   "outputs": [],
   "source": [
    "array_pruef1 = np.delete(a_del, 0, 0)"
   ]
  },
  {
   "cell_type": "code",
   "execution_count": 13,
   "metadata": {},
   "outputs": [
    {
     "name": "stdout",
     "output_type": "stream",
     "text": [
      "[[1. 1. 0. 1.]\n",
      " [0. 1. 1. 1.]\n",
      " [1. 0. 1. 1.]]\n"
     ]
    }
   ],
   "source": [
    "print(array_pruef1)"
   ]
  },
  {
   "cell_type": "markdown",
   "metadata": {},
   "source": [
    "Die zweite Matrix besteht aus der Identitätsmatrix."
   ]
  },
  {
   "cell_type": "code",
   "execution_count": 14,
   "metadata": {},
   "outputs": [],
   "source": [
    "array_pruef2 = np.identity(3)"
   ]
  },
  {
   "cell_type": "code",
   "execution_count": 15,
   "metadata": {},
   "outputs": [
    {
     "name": "stdout",
     "output_type": "stream",
     "text": [
      "[[1. 0. 0.]\n",
      " [0. 1. 0.]\n",
      " [0. 0. 1.]]\n"
     ]
    }
   ],
   "source": [
    "print(array_pruef2)"
   ]
  },
  {
   "cell_type": "markdown",
   "metadata": {},
   "source": [
    "Nun werden die zweit Matrizen zusammengefügt. Mit axis=1 soll angegeben werden, dass die zwei Matrizen horizontal angeordnet werden."
   ]
  },
  {
   "cell_type": "code",
   "execution_count": 16,
   "metadata": {},
   "outputs": [],
   "source": [
    "array_pruef = np.concatenate((array_pruef1, array_pruef2), axis=1)"
   ]
  },
  {
   "cell_type": "code",
   "execution_count": 17,
   "metadata": {},
   "outputs": [
    {
     "name": "stdout",
     "output_type": "stream",
     "text": [
      "[[1. 1. 0. 1. 1. 0. 0.]\n",
      " [0. 1. 1. 1. 0. 1. 0.]\n",
      " [1. 0. 1. 1. 0. 0. 1.]]\n"
     ]
    }
   ],
   "source": [
    "print(array_pruef)"
   ]
  },
  {
   "cell_type": "markdown",
   "metadata": {},
   "source": [
    "# Codierung"
   ]
  },
  {
   "cell_type": "markdown",
   "metadata": {},
   "source": [
    "Nun soll ein Rohwort ausgewählt werden und mit der Generatormatrix multipliziert werden."
   ]
  },
  {
   "cell_type": "markdown",
   "metadata": {},
   "source": [
    "Das Rohwort lautet: 1 0 1 0"
   ]
  },
  {
   "cell_type": "markdown",
   "metadata": {},
   "source": [
    "Zuerst wird eine Matrix mit 0 erstellt."
   ]
  },
  {
   "cell_type": "code",
   "execution_count": 18,
   "metadata": {},
   "outputs": [],
   "source": [
    "raw_code1 = np.zeros((4,1))"
   ]
  },
  {
   "cell_type": "code",
   "execution_count": 19,
   "metadata": {},
   "outputs": [
    {
     "name": "stdout",
     "output_type": "stream",
     "text": [
      "[[0.]\n",
      " [0.]\n",
      " [0.]\n",
      " [0.]]\n"
     ]
    }
   ],
   "source": [
    "print(raw_code1)"
   ]
  },
  {
   "cell_type": "markdown",
   "metadata": {},
   "source": [
    "Anschliessend wird das Rohwort hinzugefügt."
   ]
  },
  {
   "cell_type": "code",
   "execution_count": 20,
   "metadata": {},
   "outputs": [],
   "source": [
    "raw_code = np.append(raw_code1, [[1], [0], [1], [0]], axis=1)"
   ]
  },
  {
   "cell_type": "code",
   "execution_count": 21,
   "metadata": {},
   "outputs": [
    {
     "name": "stdout",
     "output_type": "stream",
     "text": [
      "[[0. 1.]\n",
      " [0. 0.]\n",
      " [0. 1.]\n",
      " [0. 0.]]\n"
     ]
    }
   ],
   "source": [
    "print (raw_code)"
   ]
  },
  {
   "cell_type": "markdown",
   "metadata": {},
   "source": [
    "Dann werden die vier 0 auf der linken Seite entfernt."
   ]
  },
  {
   "cell_type": "code",
   "execution_count": 22,
   "metadata": {},
   "outputs": [],
   "source": [
    "raw_code = np.delete(raw_code, 0, 1)"
   ]
  },
  {
   "cell_type": "code",
   "execution_count": 23,
   "metadata": {},
   "outputs": [
    {
     "name": "stdout",
     "output_type": "stream",
     "text": [
      "[[1.]\n",
      " [0.]\n",
      " [1.]\n",
      " [0.]]\n"
     ]
    }
   ],
   "source": [
    "print(raw_code)"
   ]
  },
  {
   "cell_type": "markdown",
   "metadata": {},
   "source": [
    "Nun soll das Rohwort mit der Generatormatix multipliziert werden."
   ]
  },
  {
   "cell_type": "markdown",
   "metadata": {},
   "source": [
    "Multiplikation mit der Generatormatrix:"
   ]
  },
  {
   "cell_type": "code",
   "execution_count": 24,
   "metadata": {},
   "outputs": [],
   "source": [
    "code_word = np.matmul(array_gen, raw_code)"
   ]
  },
  {
   "cell_type": "code",
   "execution_count": 25,
   "metadata": {},
   "outputs": [
    {
     "name": "stdout",
     "output_type": "stream",
     "text": [
      "[[1.]\n",
      " [0.]\n",
      " [1.]\n",
      " [0.]\n",
      " [1.]\n",
      " [1.]\n",
      " [2.]]\n"
     ]
    }
   ],
   "source": [
    "print(code_word)"
   ]
  },
  {
   "cell_type": "markdown",
   "metadata": {},
   "source": [
    "Es sollen nun die drei Parity-Bits [4][0], [5][0] und [6][0] vom Codewort mit dem Modulo überprüft werden. Sollten die Einträge nicht stimmen, wird angepasst."
   ]
  },
  {
   "cell_type": "code",
   "execution_count": 26,
   "metadata": {},
   "outputs": [],
   "source": [
    "if code_word[4][0] % 2 == 1:\n",
    "    code_word[4][0]=1\n",
    "if code_word[4][0] % 2 == 0:\n",
    "    code_word[4][0]=0\n",
    "    \n",
    "if code_word[5][0] % 2 == 1:\n",
    "    code_word[5][0]=1\n",
    "if code_word[5][0] % 2 == 0:\n",
    "    code_word[5][0]=0\n",
    "\n",
    "if code_word[6][0] % 2 == 1:\n",
    "    code_word[6][0]=1\n",
    "if code_word[6][0] % 2 == 0:\n",
    "    code_word[6][0]=0"
   ]
  },
  {
   "cell_type": "code",
   "execution_count": 27,
   "metadata": {},
   "outputs": [
    {
     "name": "stdout",
     "output_type": "stream",
     "text": [
      "[[1.]\n",
      " [0.]\n",
      " [1.]\n",
      " [0.]\n",
      " [1.]\n",
      " [1.]\n",
      " [0.]]\n"
     ]
    }
   ],
   "source": [
    "print(code_word)"
   ]
  },
  {
   "cell_type": "markdown",
   "metadata": {},
   "source": [
    "Wir haben nun unser Codewort mit den Parity-Bits. Dieses können wird nun übertragen."
   ]
  },
  {
   "cell_type": "markdown",
   "metadata": {},
   "source": [
    "# Decodierung"
   ]
  },
  {
   "cell_type": "markdown",
   "metadata": {},
   "source": [
    "Das vorhin berechnete Codewort wird nun mit der Prüfmatrix multipliziert. Sollte dabei der Nullvektor berechnet werden, hat die Datenübetragung reibungslos stattgefunden."
   ]
  },
  {
   "cell_type": "code",
   "execution_count": 28,
   "metadata": {},
   "outputs": [],
   "source": [
    "decode_word = np.matmul(array_pruef, code_word)"
   ]
  },
  {
   "cell_type": "code",
   "execution_count": 29,
   "metadata": {},
   "outputs": [
    {
     "name": "stdout",
     "output_type": "stream",
     "text": [
      "[[2.]\n",
      " [2.]\n",
      " [2.]]\n"
     ]
    }
   ],
   "source": [
    "print(decode_word)"
   ]
  },
  {
   "cell_type": "markdown",
   "metadata": {},
   "source": [
    "Auch hier müssen die Einträge mit dem Modulo angepasst werden."
   ]
  },
  {
   "cell_type": "code",
   "execution_count": 30,
   "metadata": {},
   "outputs": [],
   "source": [
    "if decode_word[0][0] % 2 == 1:\n",
    "    decode_word[0][0]=1\n",
    "if decode_word[0][0] % 2 == 0:\n",
    "    decode_word[0][0]=0\n",
    "    \n",
    "if decode_word[1][0] % 2 == 1:\n",
    "    decode_word[1][0]=1\n",
    "if decode_word[1][0] % 2 == 0:\n",
    "    decode_word[1][0]=0\n",
    "\n",
    "if decode_word[2][0] % 2 == 1:\n",
    "    decode_word[2][0]=1\n",
    "if decode_word[2][0] % 2 == 0:\n",
    "    decode_word[2][0]=0"
   ]
  },
  {
   "cell_type": "code",
   "execution_count": 31,
   "metadata": {},
   "outputs": [
    {
     "name": "stdout",
     "output_type": "stream",
     "text": [
      "[[0.]\n",
      " [0.]\n",
      " [0.]]\n"
     ]
    }
   ],
   "source": [
    "print(decode_word)"
   ]
  },
  {
   "cell_type": "markdown",
   "metadata": {},
   "source": [
    "Die Übetragung ist fehlerlos verlaufen! Wir können nun die Parity-Bits entfernen und sehen die korrekte Nachricht 1 0 1 0"
   ]
  },
  {
   "cell_type": "markdown",
   "metadata": {},
   "source": [
    "# Decodierung bei fehlerhaften Übertragung"
   ]
  },
  {
   "cell_type": "markdown",
   "metadata": {},
   "source": [
    "Bei dem Codewort wird nun ein Bit verändert, was einer fehlerhaften Übetragung entspricht. Eventuell ist die Stelle auch durch einen unerlaubten Eingriff während der Übetragung manipuliert worden."
   ]
  },
  {
   "cell_type": "markdown",
   "metadata": {},
   "source": [
    "Das Codewort 1 0 1 0 1 1 0 wird nun an der dritten Stelle geflippt, was 1 0 0 0 1 1 0 entspricht."
   ]
  },
  {
   "cell_type": "code",
   "execution_count": 32,
   "metadata": {},
   "outputs": [],
   "source": [
    "code_word[2][0] = 0"
   ]
  },
  {
   "cell_type": "code",
   "execution_count": 33,
   "metadata": {},
   "outputs": [
    {
     "name": "stdout",
     "output_type": "stream",
     "text": [
      "[[1.]\n",
      " [0.]\n",
      " [0.]\n",
      " [0.]\n",
      " [1.]\n",
      " [1.]\n",
      " [0.]]\n"
     ]
    }
   ],
   "source": [
    "print (code_word)"
   ]
  },
  {
   "cell_type": "markdown",
   "metadata": {},
   "source": [
    "Nun wird der Empfänger das Codewort mit seiner Prüfmatrix multiplizieren."
   ]
  },
  {
   "cell_type": "code",
   "execution_count": 34,
   "metadata": {},
   "outputs": [],
   "source": [
    "decode_word = np.matmul(array_pruef, code_word)"
   ]
  },
  {
   "cell_type": "code",
   "execution_count": 35,
   "metadata": {},
   "outputs": [
    {
     "name": "stdout",
     "output_type": "stream",
     "text": [
      "[[2.]\n",
      " [1.]\n",
      " [1.]]\n"
     ]
    }
   ],
   "source": [
    "print(decode_word)"
   ]
  },
  {
   "cell_type": "markdown",
   "metadata": {},
   "source": [
    "Erneut muss mit Modulo die Einträge überprüft und angepasst werden."
   ]
  },
  {
   "cell_type": "code",
   "execution_count": 36,
   "metadata": {},
   "outputs": [],
   "source": [
    "if decode_word[0][0] % 2 == 1:\n",
    "    decode_word[0][0]=1\n",
    "if decode_word[0][0] % 2 == 0:\n",
    "    decode_word[0][0]=0\n",
    "    \n",
    "if decode_word[1][0] % 2 == 1:\n",
    "    decode_word[1][0]=1\n",
    "if decode_word[1][0] % 2 == 0:\n",
    "    decode_word[1][0]=0\n",
    "\n",
    "if decode_word[2][0] % 2 == 1:\n",
    "    decode_word[2][0]=1\n",
    "if decode_word[2][0] % 2 == 0:\n",
    "    decode_word[2][0]=0"
   ]
  },
  {
   "cell_type": "code",
   "execution_count": 37,
   "metadata": {},
   "outputs": [
    {
     "name": "stdout",
     "output_type": "stream",
     "text": [
      "[[0.]\n",
      " [1.]\n",
      " [1.]]\n"
     ]
    }
   ],
   "source": [
    "print(decode_word)"
   ]
  },
  {
   "cell_type": "markdown",
   "metadata": {},
   "source": [
    "Es hanndelt sich hierbei nicht um den Nullvektor! Die fehlerhaft Übertragung ist erkannt worden! Anhand dieses Vektors kann nun ausfindig gemacht werden an welcher Stelle das Bit verfälscht worden ist. Wir suchen also in der Prüfmatrix nach der Spalte mit den Einträgen 0 1 1, was der dritten Spalte entspricht."
   ]
  },
  {
   "cell_type": "markdown",
   "metadata": {},
   "source": [
    "Also können wird nun unser Codewort an der dritten Stelle korrigieren und erhalten das richtige Codewort, wie es der Sender konstruiert hat."
   ]
  },
  {
   "cell_type": "markdown",
   "metadata": {},
   "source": [
    "Natürlich müssen wird den Eintrag entsprechend ändern, was bedeutet, dass eine 0 zu 1 wird und umgekehrt eine 1 zu 0."
   ]
  },
  {
   "cell_type": "code",
   "execution_count": 38,
   "metadata": {},
   "outputs": [],
   "source": [
    "a= code_word[2][0]\n",
    "if a == 0:\n",
    "    code_word[2][0] = 1\n",
    "if a == 1:\n",
    "    code_word[2][0] = 0"
   ]
  },
  {
   "cell_type": "code",
   "execution_count": 39,
   "metadata": {},
   "outputs": [
    {
     "name": "stdout",
     "output_type": "stream",
     "text": [
      "[[1.]\n",
      " [0.]\n",
      " [1.]\n",
      " [0.]\n",
      " [1.]\n",
      " [1.]\n",
      " [0.]]\n"
     ]
    }
   ],
   "source": [
    "print(code_word)"
   ]
  },
  {
   "cell_type": "markdown",
   "metadata": {},
   "source": [
    "Das Codewort ist nun korrekt! Erneut kann dieses mit der Prüfmatrix multipliziert werden."
   ]
  },
  {
   "cell_type": "code",
   "execution_count": 40,
   "metadata": {},
   "outputs": [],
   "source": [
    "decode_word = np.matmul(array_pruef, code_word)"
   ]
  },
  {
   "cell_type": "code",
   "execution_count": 41,
   "metadata": {},
   "outputs": [
    {
     "name": "stdout",
     "output_type": "stream",
     "text": [
      "[[2.]\n",
      " [2.]\n",
      " [2.]]\n"
     ]
    }
   ],
   "source": [
    "print(decode_word)"
   ]
  },
  {
   "cell_type": "markdown",
   "metadata": {},
   "source": [
    "Erneut soll mit dem Modulo die Einträge angepasst werden, wir sehen bereits, dass der Nullvektor erreicht wird."
   ]
  },
  {
   "cell_type": "code",
   "execution_count": 42,
   "metadata": {},
   "outputs": [],
   "source": [
    "if decode_word[0][0] % 2 == 1:\n",
    "    decode_word[0][0]=1\n",
    "if decode_word[0][0] % 2 == 0:\n",
    "    decode_word[0][0]=0\n",
    "    \n",
    "if decode_word[1][0] % 2 == 1:\n",
    "    decode_word[1][0]=1\n",
    "if decode_word[1][0] % 2 == 0:\n",
    "    decode_word[1][0]=0\n",
    "\n",
    "if decode_word[2][0] % 2 == 1:\n",
    "    decode_word[2][0]=1\n",
    "if decode_word[2][0] % 2 == 0:\n",
    "    decode_word[2][0]=0"
   ]
  },
  {
   "cell_type": "code",
   "execution_count": 43,
   "metadata": {},
   "outputs": [
    {
     "name": "stdout",
     "output_type": "stream",
     "text": [
      "[[0.]\n",
      " [0.]\n",
      " [0.]]\n"
     ]
    }
   ],
   "source": [
    "print(decode_word)"
   ]
  },
  {
   "cell_type": "markdown",
   "metadata": {},
   "source": [
    "Wir haben nun rechnerisch zeigen können, dass die Korrektur am richtigen Bit vorgenommen worden ist."
   ]
  },
  {
   "cell_type": "markdown",
   "metadata": {},
   "source": [
    "Der Empfänger kann nun die letzten drei Parity-Bits entfernen und erhält so die Nachricht des Senders."
   ]
  },
  {
   "cell_type": "markdown",
   "metadata": {},
   "source": [
    "Das Rohwort lautet also 1 0 1 0, was ja der korrekten Nachricht des Senders entspricht."
   ]
  },
  {
   "cell_type": "markdown",
   "metadata": {},
   "source": [
    "# Aufruf der  Funktionen als Zusammenfassung"
   ]
  },
  {
   "cell_type": "markdown",
   "metadata": {},
   "source": [
    "Nun sollen die oben erwähnten Beschreibungen in eine Funktion eingebettet werden und anschliessend aufgerufen werden. Dies entspricht also einer Zusammenfassung aller Einträge."
   ]
  },
  {
   "cell_type": "code",
   "execution_count": 44,
   "metadata": {},
   "outputs": [],
   "source": [
    "# Generatormatrix\n",
    "def generatormatrix():\n",
    "    array_gen_id = np.identity(4)\n",
    "    # Hier wird ausnahmsweise die Matrix global definiert, damit diese auch ausserhalb der Funktion erreichbar ist.\n",
    "    global array_gen\n",
    "    array_gen = np.append(array_gen_id, [[1, 1, 0, 1],[0, 1, 1, 1],[1, 0, 1, 1]], axis=0)\n",
    "    print(array_gen)\n",
    "\n",
    "# Prüfmatrix    \n",
    "def pruefmatrix():\n",
    "    array_pruef1 = np.zeros((3,4))\n",
    "    array_pruef1_added = np.append(array_pruef1, [[1, 1, 0, 1],[0, 1, 1, 1],[1, 0, 1, 1]], axis=0)\n",
    "    a_del = np.delete(array_pruef1_added, 0, 0)\n",
    "    a_del = np.delete(a_del, 0, 0)\n",
    "    array_pruef1 = np.delete(a_del, 0, 0)\n",
    "    array_pruef2 = np.identity(3)\n",
    "    # Hier wird ausnahmsweise die Matrix global definiert, damit diese auch ausserhalb der Funktion erreichbar ist.\n",
    "    global array_pruef\n",
    "    array_pruef = np.concatenate((array_pruef1, array_pruef2), axis=1)\n",
    "    print(array_pruef)\n",
    "    \n",
    "# Codierung \n",
    "def codierung():\n",
    "    raw_code1 = np.zeros((4,1))\n",
    "    raw_code = np.append(raw_code1, [[1], [0], [1], [0]], axis=1)\n",
    "    raw_code = np.delete(raw_code, 0, 1)\n",
    "    # Hier wird ausnahmsweise die Matrix global definiert, damit diese auch ausserhalb der Funktion erreichbar ist.\n",
    "    global code_word\n",
    "    code_word = np.matmul(array_gen, raw_code)\n",
    "    if code_word[4][0] % 2 == 1:\n",
    "        code_word[4][0]=1\n",
    "    if code_word[4][0] % 2 == 0:\n",
    "        code_word[4][0]=0  \n",
    "    if code_word[5][0] % 2 == 1:\n",
    "        code_word[5][0]=1\n",
    "    if code_word[5][0] % 2 == 0:\n",
    "        code_word[5][0]=0\n",
    "    if code_word[6][0] % 2 == 1:\n",
    "        code_word[6][0]=1\n",
    "    if code_word[6][0] % 2 == 0:\n",
    "        code_word[6][0]=0\n",
    "    print(code_word)\n",
    "\n",
    "# Decodierung \n",
    "def decodierung():\n",
    "    # Hier wird ausnahmsweise die Matrix global definiert, damit diese auch ausserhalb der Funktion erreichbar ist.\n",
    "    global decode_word\n",
    "    decode_word = np.matmul(array_pruef, code_word)\n",
    "    if decode_word[0][0] % 2 == 1:\n",
    "        decode_word[0][0]=1\n",
    "    if decode_word[0][0] % 2 == 0:\n",
    "        decode_word[0][0]=0\n",
    "    if decode_word[1][0] % 2 == 1:\n",
    "        decode_word[1][0]=1\n",
    "    if decode_word[1][0] % 2 == 0:\n",
    "        decode_word[1][0]=0\n",
    "    if decode_word[2][0] % 2 == 1:\n",
    "        decode_word[2][0]=1\n",
    "    if decode_word[2][0] % 2 == 0:\n",
    "        decode_word[2][0]=0\n",
    "    print(decode_word)\n",
    "    print(\"\"\"\n",
    "Der Nullvektor ist erreicht, die Übertragung ist fehlerlos verlaufen,\n",
    "die drei Parity-Bits 1,1,0 können entfernt werden, das Rohwort lautet 1 0 1 0\n",
    "          \"\"\")\n",
    "\n",
    "def decodierung_korrektur():\n",
    "    print(\"Das Codewort wird an der dritten Stelle geflippt\")\n",
    "    code_word[2][0] = 0\n",
    "    print(\"Das Codewort wird mit der Prüfmatrix multipliziert\")\n",
    "    decode_word = np.matmul(array_pruef, code_word)\n",
    "    if decode_word[0][0] % 2 == 1:\n",
    "        decode_word[0][0]=1\n",
    "    if decode_word[0][0] % 2 == 0:\n",
    "        decode_word[0][0]=0\n",
    "    if decode_word[1][0] % 2 == 1:\n",
    "        decode_word[1][0]=1\n",
    "    if decode_word[1][0] % 2 == 0:\n",
    "        decode_word[1][0]=0\n",
    "    if decode_word[2][0] % 2 == 1:\n",
    "        decode_word[2][0]=1\n",
    "    if decode_word[2][0] % 2 == 0:\n",
    "        decode_word[2][0]=0\n",
    "    print(decode_word)\n",
    "    print(\"\"\"\n",
    "Es handelt sich nicht um den Nullvektor. Es wird erkannt, dass dieser Eintag dem Eintrag an der dritten Stelle der Prüfmatrix entspricht, daher kann an der dritten Stelle das Bit geflippt werden.\n",
    "\"\"\")\n",
    "    a= code_word[2][0]\n",
    "    if a == 0:\n",
    "        code_word[2][0] = 1\n",
    "    if a == 1:\n",
    "        code_word[2][0] = 0\n",
    "    print(code_word)\n",
    "    print(\"Es soll nun erneut mit der Prüfmatrix multipliziert werden\")\n",
    "    decode_word = np.matmul(array_pruef, code_word)\n",
    "    if decode_word[0][0] % 2 == 1:\n",
    "        decode_word[0][0]=1\n",
    "    if decode_word[0][0] % 2 == 0:\n",
    "        decode_word[0][0]=0\n",
    "    if decode_word[1][0] % 2 == 1:\n",
    "        decode_word[1][0]=1\n",
    "    if decode_word[1][0] % 2 == 0:\n",
    "        decode_word[1][0]=0\n",
    "    if decode_word[2][0] % 2 == 1:\n",
    "        decode_word[2][0]=1\n",
    "    if decode_word[2][0] % 2 == 0:\n",
    "        decode_word[2][0]=0\n",
    "    print(decode_word)\n",
    "    print(\"Der Nullvektor ist erreicht! Die Parity-Bits können entfernt werden, die Nachricht lautet 1 0 1 0\")\n",
    "    "
   ]
  },
  {
   "cell_type": "code",
   "execution_count": 45,
   "metadata": {},
   "outputs": [
    {
     "name": "stdout",
     "output_type": "stream",
     "text": [
      "[[1. 0. 0. 0.]\n",
      " [0. 1. 0. 0.]\n",
      " [0. 0. 1. 0.]\n",
      " [0. 0. 0. 1.]\n",
      " [1. 1. 0. 1.]\n",
      " [0. 1. 1. 1.]\n",
      " [1. 0. 1. 1.]]\n"
     ]
    }
   ],
   "source": [
    "generatormatrix()"
   ]
  },
  {
   "cell_type": "code",
   "execution_count": 46,
   "metadata": {},
   "outputs": [
    {
     "name": "stdout",
     "output_type": "stream",
     "text": [
      "[[1. 1. 0. 1. 1. 0. 0.]\n",
      " [0. 1. 1. 1. 0. 1. 0.]\n",
      " [1. 0. 1. 1. 0. 0. 1.]]\n"
     ]
    }
   ],
   "source": [
    "pruefmatrix()"
   ]
  },
  {
   "cell_type": "code",
   "execution_count": 47,
   "metadata": {},
   "outputs": [
    {
     "name": "stdout",
     "output_type": "stream",
     "text": [
      "[[1.]\n",
      " [0.]\n",
      " [1.]\n",
      " [0.]\n",
      " [1.]\n",
      " [1.]\n",
      " [0.]]\n"
     ]
    }
   ],
   "source": [
    "codierung()"
   ]
  },
  {
   "cell_type": "code",
   "execution_count": 48,
   "metadata": {},
   "outputs": [
    {
     "name": "stdout",
     "output_type": "stream",
     "text": [
      "[[0.]\n",
      " [0.]\n",
      " [0.]]\n",
      "\n",
      "Der Nullvektor ist erreicht, die Übertragung ist fehlerlos verlaufen,\n",
      "die drei Parity-Bits 1,1,0 können entfernt werden, das Rohwort lautet 1 0 1 0\n",
      "          \n"
     ]
    }
   ],
   "source": [
    "decodierung()"
   ]
  },
  {
   "cell_type": "code",
   "execution_count": 49,
   "metadata": {},
   "outputs": [
    {
     "name": "stdout",
     "output_type": "stream",
     "text": [
      "Das Codewort wird an der dritten Stelle geflippt\n",
      "Das Codewort wird mit der Prüfmatrix multipliziert\n",
      "[[0.]\n",
      " [1.]\n",
      " [1.]]\n",
      "\n",
      "Es handelt sich nicht um den Nullvektor. Es wird erkannt, dass dieser Eintag dem Eintrag an der dritten Stelle der Prüfmatrix entspricht, daher kann an der dritten Stelle das Bit geflippt werden.\n",
      "\n",
      "[[1.]\n",
      " [0.]\n",
      " [1.]\n",
      " [0.]\n",
      " [1.]\n",
      " [1.]\n",
      " [0.]]\n",
      "Es soll nun erneut mit der Prüfmatrix multipliziert werden\n",
      "[[0.]\n",
      " [0.]\n",
      " [0.]]\n",
      "Der Nullvektor ist erreicht! Die Parity-Bits können entfernt werden, die Nachricht lautet 1 0 1 0\n"
     ]
    }
   ],
   "source": [
    "decodierung_korrektur()"
   ]
  }
 ],
 "metadata": {
  "kernelspec": {
   "display_name": "Python 3",
   "language": "python",
   "name": "python3"
  },
  "language_info": {
   "codemirror_mode": {
    "name": "ipython",
    "version": 3
   },
   "file_extension": ".py",
   "mimetype": "text/x-python",
   "name": "python",
   "nbconvert_exporter": "python",
   "pygments_lexer": "ipython3",
   "version": "3.7.3"
  }
 },
 "nbformat": 4,
 "nbformat_minor": 2
}
