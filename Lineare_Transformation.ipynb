{
 "cells": [
  {
   "cell_type": "markdown",
   "metadata": {},
   "source": [
    "Created by Olivia Williams, FFHS 19"
   ]
  },
  {
   "cell_type": "markdown",
   "metadata": {},
   "source": [
    "# Teil 1b der Semesterarbeit: Lineare Transformation"
   ]
  },
  {
   "cell_type": "markdown",
   "metadata": {},
   "source": [
    "Import der wichtigsten Libraries um Trigonometrie berechnen zu können und Koordinatensysteme darstellen zu können. Numppy wird für die Berechnungen angewendet, Matplotlib für die Darstellung."
   ]
  },
  {
   "cell_type": "code",
   "execution_count": 1,
   "metadata": {},
   "outputs": [],
   "source": [
    "import matplotlib.pyplot as plt\n",
    "import matplotlib.pyplot as plt2\n",
    "import numpy as np"
   ]
  },
  {
   "cell_type": "markdown",
   "metadata": {},
   "source": [
    "Darstellung eines Koordinatensystems und eines Einheitsquadrates. Zuerst wird ein Koordinatensystem mit den Werten -3 bis 5 für beide Achsen mit Gitternetz und Axen bestimmt. Die Vektoren des Einheitsquadrats werden farblich dargestellt. Somit ist die erste horizontale Linie (gegen den Uhrzeigersinn beginnend beim Nullpunkt) blau, die nächste rot, die nächste grün und die letzte purpurn. Diese Linien werden im Koordinatensystem eingezeichnet."
   ]
  },
  {
   "cell_type": "code",
   "execution_count": 2,
   "metadata": {},
   "outputs": [
    {
     "data": {
      "image/png": "[encoded data removed]",
      "text/plain": [
       "<Figure size 432x288 with 1 Axes>"
      ]
     },
     "metadata": {
      "needs_background": "light"
     },
     "output_type": "display_data"
    }
   ],
   "source": [
    "# Koordinatensystem mit Gitternetz\n",
    "plt.axis('equal')\n",
    "#plt.xlim(0, 5)\n",
    "#plt.ylim(0, 5)\n",
    "plt.axis( [-3,5,-3,5] )\n",
    "plt.axhline(0, color='black')\n",
    "plt.axvline(0, color='black')\n",
    "plt.title('Lineare Algebra 1b') \n",
    "plt.xlabel('x') \n",
    "plt.ylabel('y') \n",
    "plt.grid(True)\n",
    "\n",
    "# Das Einheitsquadrat\n",
    "# Horizontal\n",
    "blue1 = np.array([0, 1])\n",
    "blue2 = np.array([0, 0])\n",
    "green1 = np.array([0, 1])\n",
    "green2 = np.array([1, 1])\n",
    "\n",
    "# Vertikal\n",
    "red1 = np.array([1, 1])\n",
    "red2 = np.array([0, 1])\n",
    "magenta1 = np.array([0, 0])\n",
    "magenta2 = np.array([0, 1])\n",
    "\n",
    "# Eingezeichnetes Einheitsquadrat\n",
    "# Mit Farben und dicke der Linie\n",
    "plt.plot(blue1,blue2, color='blue', linestyle='-', linewidth=3)\n",
    "plt.plot(green1,green2, color='green', linestyle='-', linewidth=3)\n",
    "plt.plot(red1,red2, color='red', linestyle='-', linewidth=3)\n",
    "plt.plot(magenta1,magenta2, color='magenta', linestyle='-', linewidth=3)\n",
    "\n",
    "# Diagramm anzeigen:\n",
    "plt.show()"
   ]
  },
  {
   "cell_type": "markdown",
   "metadata": {},
   "source": [
    "Ein Benutzer kann hier nun auswählen, welche lineare Abbildung er anwenden möchte. Dabei kann er einfach die entsprechende Nummer eingeben. Bei den Komposita handelt es sich um Abbildungen, die nacheinander angewendet werden.\n",
    "<br>\n",
    "<br>1) Drehung um den Nullpunkt\n",
    "<br>2) Spiegelung an der x-Achse\n",
    "<br>3) Spiegelung an der y-Achse\n",
    "<br>4) Spiegelung an der Ursprungsgeraden\n",
    "<br>5) Zentrische Streckung oder Stauchung (Zoom)\n",
    "<br>6) Skalieriung\n",
    "<br>7) Scherung in Richtung der x-Achse\n",
    "<br>8) Scherung in Richtung der y-Achse\n",
    "<br>\n",
    "<br> Komposita:\n",
    "<br>9) Spiegelung an der x-Achse und eine Scherung in Richtung der y-Achse\n",
    "<br>10) Drehung um den Nullpunkt und eine zentrische Stauchung\n",
    "<br>11) Scherung in Richtung der y-Achse und eine Spiegelung an einer Ursprungsgeraden\n",
    "<br>12) Skalierung, Drehung und Spiegelung an der x-Achse\n",
    "<br>13) Eingabe einer eigenen Abbidlungsmatrix in zwei Dimensionen"
   ]
  },
  {
   "cell_type": "code",
   "execution_count": 3,
   "metadata": {},
   "outputs": [
    {
     "name": "stdout",
     "output_type": "stream",
     "text": [
      "Bitte eine lineare Abbildung auswählen, indem die Zahl angegeben wird:\n",
      "\n",
      "1 Drehung um den Nullpunkt\n",
      "2 Spiegelung an der x-Achse\n",
      "3 Spiegelung an der y-Achse\n",
      "4 Spiegelung an der Ursprungsgeraden\n",
      "5 Zentrischde Streckung oder Stauchung (Zoom)\n",
      "6 Skalierung\n",
      "7 Scherung in Richtung der x-Achse\n",
      "8 Scherung in Richtung der y-Achse\n",
      "\n",
      "Komposita:\n",
      "9 Spiegelung an der x-Achse und eine Scherung in Richtung der y-Achse\n",
      "10 Drehung um den Nullpunkt und eine zentrische Stauchung\n",
      "11 Scherung in Richtung der y-Achse und eine Spiegelung an einer Ursprungsgeraden\n",
      "12 Skalierung, Drehung und Spiegelung an der x-Achse\n",
      "13 Eingabe einer eigenen Abbildungsmatrix in zwei Dimensionen\n",
      "\n",
      "Deine Auswahl: 2\n"
     ]
    }
   ],
   "source": [
    "# Der User soll wählen, welche lineare Abbildung er anwenden möchte\n",
    "print(\"Bitte eine lineare Abbildung auswählen, indem die Zahl angegeben wird:\")\n",
    "print(\"\")\n",
    "print(\"1 Drehung um den Nullpunkt\")\n",
    "print(\"2 Spiegelung an der x-Achse\")\n",
    "print(\"3 Spiegelung an der y-Achse\")\n",
    "print(\"4 Spiegelung an der Ursprungsgeraden\")\n",
    "print(\"5 Zentrischde Streckung oder Stauchung (Zoom)\")\n",
    "print(\"6 Skalierung\")\n",
    "print(\"7 Scherung in Richtung der x-Achse\")\n",
    "print(\"8 Scherung in Richtung der y-Achse\")\n",
    "print(\"\")\n",
    "print(\"Komposita:\")\n",
    "print(\"9 Spiegelung an der x-Achse und eine Scherung in Richtung der y-Achse\")\n",
    "print(\"10 Drehung um den Nullpunkt und eine zentrische Stauchung\")\n",
    "print(\"11 Scherung in Richtung der y-Achse und eine Spiegelung an einer Ursprungsgeraden\")\n",
    "print(\"12 Skalierung, Drehung und Spiegelung an der x-Achse\")\n",
    "print(\"13 Eingabe einer eigenen Abbildungsmatrix in zwei Dimensionen\")\n",
    "print(\"\")\n",
    "auswahl = input(\"Deine Auswahl: \")"
   ]
  },
  {
   "cell_type": "markdown",
   "metadata": {},
   "source": [
    "Nach der Auswahl wird die Abbildungssgmatrix berechnet. Dabei werden die einzelnen x- und y-Werte berechnet."
   ]
  },
  {
   "cell_type": "markdown",
   "metadata": {},
   "source": [
    "# 1 Drehung um den Nullpunkt\n",
    "Drehung um den Nullpunkt (Der Winkel wird in Grad angegeben, nicht in Bogenmass):\n",
    "<br><br>\n",
    "A = $\\left( \\begin{array}{rr}\n",
    "\\cos \\alpha & -\\sin \\alpha  \\\\                                              \n",
    "\\sin \\alpha & \\cos \\alpha  \\\\                                            \n",
    "\\end{array}\\right)$"
   ]
  },
  {
   "cell_type": "markdown",
   "metadata": {},
   "source": [
    "# 2 Spiegelung an der x-Achse\n",
    "<br>\n",
    "A = $\\left( \\begin{array}{rr}\n",
    "1 & 0  \\\\                                              \n",
    "0 & -1  \\\\                                            \n",
    "\\end{array}\\right)$"
   ]
  },
  {
   "cell_type": "markdown",
   "metadata": {},
   "source": [
    "# 3 Spiegelung an der y-Achse\n",
    "<br>\n",
    "A = $\\left( \\begin{array}{rr}\n",
    "-1 & 0  \\\\                                              \n",
    "0 & 1  \\\\                                            \n",
    "\\end{array}\\right)$"
   ]
  },
  {
   "cell_type": "markdown",
   "metadata": {},
   "source": [
    "# 4 Spiegelung an der Ursprungsgeraden\n",
    "Drehung um den Nullpunkt (Der Winkel wird in Grad angegeben, nicht in Bogenmass):\n",
    "<br><br>\n",
    "A = $\\left( \\begin{array}{rr}\n",
    "\\cos 2\\alpha & \\sin 2\\alpha  \\\\                                              \n",
    "\\sin 2\\alpha & -\\cos 2\\alpha  \\\\                                            \n",
    "\\end{array}\\right)$"
   ]
  },
  {
   "cell_type": "markdown",
   "metadata": {},
   "source": [
    "# 5 Zentrische Streckung oder Stauchung\n",
    "Eine Streckung hat den Wert grösser als 1, eine Stauchung zwischen 0 und 1:\n",
    "<br>\n",
    "A = $\\left( \\begin{array}{rr}\n",
    "\\lambda & 0  \\\\                                              \n",
    "0 & \\lambda  \\\\                                            \n",
    "\\end{array}\\right)$"
   ]
  },
  {
   "cell_type": "markdown",
   "metadata": {},
   "source": [
    "# 6 Skalierung\n",
    "Für die x-Richtung wird anders gestreckt oder gestaucht als für die y-Richtung:\n",
    "<br>\n",
    "A = $\\left( \\begin{array}{rr}\n",
    "\\lambda & 0  \\\\                                              \n",
    "0 & \\mu  \\\\                                            \n",
    "\\end{array}\\right)$"
   ]
  },
  {
   "cell_type": "markdown",
   "metadata": {},
   "source": [
    "# 7 Scherung in Richtung der x-Achse\n",
    "In Richtung der x-Achse wird das Einheitsquadrat um einen Winkel verschoben. Die Seiten sind noch parallel, jedoch sind die horizontalen Linien um einen Wert verschoben. Der berechnete Tangens aus dem abgefragten Winkel (ebenfalls Grad und nicht Bogenmass) ist der neue x-Wert für den Basisvektor der y-Richtung:\n",
    "<br>\n",
    "A = $\\left( \\begin{array}{rr}\n",
    "1 & \\tan \\alpha  \\\\                                              \n",
    "0 & 1  \\\\                                            \n",
    "\\end{array}\\right)$"
   ]
  },
  {
   "cell_type": "markdown",
   "metadata": {},
   "source": [
    "# 8 Scherung in Richtung der y-Achse\n",
    "In Richtung der y-Achse wird das Einheitsquadrat um einen Winkel verschoben. Die Seiten sind noch parallel, jedoch sind die vertikalen Linien um einen Wert verschoben. Der berechnete Tangens aus dem abgefragten Winkel (ebenfalls Grad und nicht Bogenmass) ist der neue y-Wert für den Basisvektor der x-Richtung:\n",
    "<br>\n",
    "A = $\\left( \\begin{array}{rr}\n",
    "1 & 0  \\\\                                              \n",
    "\\tan \\alpha & 1  \\\\                                            \n",
    "\\end{array}\\right)$"
   ]
  },
  {
   "cell_type": "markdown",
   "metadata": {},
   "source": [
    "# 9 Spiegelung an der x-Achse und eine Scherung in Richtung der y-Achse\n",
    "Zuerst soll gespiegelt werden und anschliessend eine Scherung angwendet werden:\n",
    "<br>\n",
    "A = $\\left( \\begin{array}{rr}\n",
    "1 & 0  \\\\                                              \n",
    "\\tan \\alpha & 1  \\\\                                            \n",
    "\\end{array}\\right)$ * $\\left( \\begin{array}{rr}\n",
    "1 & 0  \\\\                                              \n",
    "0 & -1  \\\\                                            \n",
    "\\end{array}\\right)$ = $\\left( \\begin{array}{rr}\n",
    "1 & 0  \\\\                                              \n",
    "\\tan \\alpha & -1  \\\\                                            \n",
    "\\end{array}\\right)$"
   ]
  },
  {
   "cell_type": "markdown",
   "metadata": {},
   "source": [
    "# 10 Drehung um den Nullpunkt und eine zentrische Stauchung\n",
    "Zuerst soll gedreht werden und anschliessend gestaucht:\n",
    "<br>\n",
    "A = $\\left( \\begin{array}{rr}\n",
    "\\lambda & 0  \\\\                                              \n",
    "0 & \\lambda \\\\                                            \n",
    "\\end{array}\\right)$ *\n",
    "$\\left( \\begin{array}{rr}\n",
    "\\cos \\alpha & -\\sin \\alpha  \\\\                                              \n",
    "\\sin \\alpha & \\cos \\alpha  \\\\                                            \n",
    "\\end{array}\\right)$ =\n",
    "$\\left( \\begin{array}{rr}\n",
    "\\lambda \\cos \\alpha & -\\lambda \\sin \\alpha  \\\\                                              \n",
    "\\lambda \\sin \\alpha & \\lambda \\cos \\alpha  \\\\                                            \n",
    "\\end{array}\\right)$"
   ]
  },
  {
   "cell_type": "markdown",
   "metadata": {},
   "source": [
    "# 11 Scherung in Richtung der y-Achse und eine Spiegelung einer Ursprungsgeraden\n",
    "Zuerst soll in Richtung der y-Achse geschert werden und dann an einer Ursprungsgeraden gespiegelt:\n",
    "<br>\n",
    "A = $\\left( \\begin{array}{rr}\n",
    "\\cos 2\\alpha & \\sin 2\\alpha  \\\\                                              \n",
    "\\sin 2\\alpha & -\\cos 2\\alpha  \\\\                                            \n",
    "\\end{array}\\right)$ *\n",
    " $\\left( \\begin{array}{rr}\n",
    "1 & 0  \\\\                                              \n",
    "\\tan \\alpha & 1  \\\\                                            \n",
    "\\end{array}\\right)$\n",
    "=\n",
    "$\\left( \\begin{array}{rr}\n",
    "\\cos 2\\alpha + \\tan \\alpha * \\sin 2\\alpha & \\sin 2\\alpha  \\\\                                              \n",
    "\\sin 2\\alpha - \\tan \\alpha * \\cos 2\\alpha & -\\cos 2\\alpha  \\\\                                            \n",
    "\\end{array}\\right)$"
   ]
  },
  {
   "cell_type": "markdown",
   "metadata": {},
   "source": [
    "# 12 Skalierung, Drehung und Spiegelung an der x-Achse\n",
    "Zuerst soll skaliert werden, dann gedreht und zuletzt an der x-Acshe gespiegelt werden:\n",
    "<br>\n",
    "A = $\\left( \\begin{array}{rr}\n",
    "1 & 0  \\\\                                              \n",
    "0 & -1  \\\\                                            \n",
    "\\end{array}\\right)$ *\n",
    "$\\left( \\begin{array}{rr}\n",
    "\\cos \\alpha & -\\sin \\alpha  \\\\                                              \n",
    "\\sin \\alpha & \\cos \\alpha  \\\\                                            \n",
    "\\end{array}\\right)$ *\n",
    " $\\left( \\begin{array}{rr}\n",
    "\\lambda & 0  \\\\                                              \n",
    "0 & \\mu  \\\\                                            \n",
    "\\end{array}\\right)$\n",
    "=\n",
    "$\\left( \\begin{array}{rr}\n",
    "\\lambda \\cos \\alpha & -\\mu \\sin \\alpha  \\\\                                              \n",
    "-\\lambda \\sin \\alpha & -\\mu \\cos \\alpha  \\\\                                            \n",
    "\\end{array}\\right)$"
   ]
  },
  {
   "cell_type": "markdown",
   "metadata": {},
   "source": [
    "# 13 Eigene Abbidlungsmatrix angeben\n",
    "Hier kann der Benutzer eine eigene Matrix angeben. "
   ]
  },
  {
   "cell_type": "code",
   "execution_count": 4,
   "metadata": {},
   "outputs": [],
   "source": [
    "# 1 Drehung um den Nullpunkt\n",
    "if (auswahl==\"1\"):\n",
    "    grad = input(\"Wieviel Grad: \")\n",
    "    val = float(grad)\n",
    "    # Abbildungsmatrix bestimmen\n",
    "    firstx = round(np.cos(np.deg2rad(val)),2)\n",
    "    firsty = round(np.sin(np.deg2rad(val)),2)\n",
    "    secondx = round(-1*np.sin(np.deg2rad(val)),2)\n",
    "    secondy = round(np.cos(np.deg2rad(val)),2)\n",
    "    \n",
    "# 2 Spiegelung an der x-Achse\n",
    "if (auswahl==\"2\"):\n",
    "    # Abbildungsmatrix bestimmen\n",
    "    firstx = 1\n",
    "    firsty = 0\n",
    "    secondx = 0\n",
    "    secondy = -1\n",
    "    \n",
    "# 3 Spiegelung an der y-Achse\n",
    "if (auswahl==\"3\"):\n",
    "    # Abbildungsmatrix bestimmen\n",
    "    firstx = -1\n",
    "    firsty = 0\n",
    "    secondx = 0\n",
    "    secondy = 1   \n",
    "    \n",
    "# 4 Spiegelung an der Ursprungsgeraden\n",
    "if (auswahl==\"4\"):\n",
    "    grad = input(\"Wieviel Grad (Steigung der Ursprungsgeraden, siehe Dokumentation für die Umrechung): \")\n",
    "    val = float(grad)\n",
    "    # Abbildungsmatrix bestimmen\n",
    "    firstx = round(np.cos(np.deg2rad(2*val)),2)\n",
    "    firsty = round(np.sin(np.deg2rad(2*val)),2)\n",
    "    secondx = round(np.sin(np.deg2rad(2*val)),2)\n",
    "    secondy = round(-1*np.cos(np.deg2rad(2*val)),2)\n",
    "    \n",
    "# 5 Zentrische Streckung oder Stauchung\n",
    "if (auswahl==\"5\"):\n",
    "    wert = input(\"Für eine Streckung gib einen Wert grösser 1, für eine Stauchung zwischen 0 und 1: \")\n",
    "    val = float(wert)\n",
    "    # Abbildungsmatrix bestimmen\n",
    "    firstx = val\n",
    "    firsty = 0\n",
    "    secondx = 0\n",
    "    secondy = val  \n",
    "    \n",
    "# 6 Skalierung\n",
    "if (auswahl==\"6\"):\n",
    "    print(\"Für eine Skalierung wird die x Richtung anders abgebildet als die y Richtung: \")\n",
    "    wertx = input(\"Gebe ein Skalierungswert für die x-Richtung an: \")\n",
    "    val1 = float(wertx)\n",
    "    werty = input(\"Gebe ein Skalierungswert für die y-Richtung an: \")\n",
    "    val2 = float(werty)\n",
    "    # Abbildungsmatrix bestimmen\n",
    "    firstx = val1\n",
    "    firsty = 0\n",
    "    secondx = 0\n",
    "    secondy = val2 \n",
    "    \n",
    "# 7 Scherung in Richtung der x-Achse\n",
    "if (auswahl==\"7\"):\n",
    "    wertx = input(\"Gib den Winkel an, den du zur Scherung an der  x-Achse verwenden möchtest: \")\n",
    "    val = float(wertx)\n",
    "    # Abbildungsmatrix bestimmen\n",
    "    firstx = 1\n",
    "    firsty = 0\n",
    "    secondx = round(np.tan(np.deg2rad(val)),2)\n",
    "    secondy = 1 \n",
    "    \n",
    "# 8 Scherung in Richtung der y-Achse\n",
    "if (auswahl==\"8\"):\n",
    "    werty = input(\"Gib den Winkel an, den du zur Scherung an der  y-Achse verwenden möchtest: \")\n",
    "    val = float(werty)\n",
    "    # Abbildungsmatrix bestimmen\n",
    "    firstx = 1\n",
    "    firsty = round(np.tan(np.deg2rad(val)),2)\n",
    "    secondx = 0\n",
    "    secondy = 1 \n",
    "    \n",
    "# 9 Spiegelung an der x-Achse und eine Scherung in Richtung der y-Achse\n",
    "if (auswahl==\"9\"):\n",
    "    werty = input(\"Gib den Winkel an, den du zur Scherung an der  y-Achse verwenden möchtest: \")\n",
    "    val = float(werty)\n",
    "    # Multiplikation Spiegelung mit Scherung bereits vorgerechnet, siehe Dokumentation\n",
    "    # Abbildungsmatrix bestimmen\n",
    "    firstx = 1\n",
    "    firsty = round(np.tan(np.deg2rad(val)),2)\n",
    "    secondx = 0\n",
    "    secondy = -1\n",
    "    \n",
    "#10 Drehung um den Nullpunkt und eine zentrische Stauchung\n",
    "if (auswahl==\"10\"):\n",
    "    wert1 = input(\"Gib einen Winkel an, den du für die Drehung verwenden möchtest: \")\n",
    "    val1 = float(wert1)\n",
    "    wert2 = input(\"Gib den Wert der Stauchung an, zwischen 0 und 1: \")\n",
    "    val2 = float(wert2)\n",
    "    # Multiplikation Drehung und Stauchung bereits vorgerechnet, siehe Dokumentation\n",
    "    # Abbildungsmatrix bestimmen\n",
    "    firstx = (round(np.cos(np.deg2rad(val1)),2))*val2\n",
    "    firsty = (round(np.sin(np.deg2rad(val1)),2))*val2\n",
    "    secondx = (round(np.sin(np.deg2rad(val1)),2))*-val2\n",
    "    secondy = (round(np.cos(np.deg2rad(val1)),2))*val2\n",
    "    \n",
    "#11 Scherung in Richtung der y-Achse und eine Spiegelung einer Ursprungsgeraden\n",
    "if (auswahl==\"11\"):\n",
    "    werty = input(\"Gib den Winkel an, den du zur Scherung an der  y-Achse verwenden möchtest: \")\n",
    "    val1 = float(werty)\n",
    "    grad = input(\"Wieviel Grad (Steigung der Ursprungsgeraden, siehe Dokumentation für die Umrechung): \")\n",
    "    val2 = float(grad)\n",
    "    # Multiplikation Scherung und Spiegelung bereits vorgerechnet, siehe Dokumentation\n",
    "    # Abbildungsmatrix bestimmen\n",
    "    firstx =  round(np.cos(np.deg2rad(2*val2)),2)+ round(np.tan(np.deg2rad(val1)),2)*round(np.sin(np.deg2rad(2*val2)),2)\n",
    "    firsty = round(np.sin(np.deg2rad(2*val2)),2)- round(np.tan(np.deg2rad(val1)),2)*round(np.cos(np.deg2rad(2*val2)),2)\n",
    "    secondx = round(np.sin(np.deg2rad(2*val2)),2)\n",
    "    secondy = round(-1*np.cos(np.deg2rad(2*val2)),2)\n",
    "    \n",
    "# 12 Skalierung, Drehung und Spiegelung an der x-Achse\n",
    "if (auswahl==\"12\"):\n",
    "    print(\"Für eine Skalierung wird die x Richtung anders abgebildet als die y Richtung: \")\n",
    "    wertx = input(\"Gebe ein Skalierungswert für die x-Richtung an: \")\n",
    "    val1 = float(wertx)\n",
    "    werty = input(\"Gebe ein Skalierungswert für die y-Richtung an: \")\n",
    "    val2 = float(werty)\n",
    "    wertd = input(\"Gebe den Winkel an (Umrechnung siehe Dokumentation): \")\n",
    "    val3 = float(wertd)\n",
    "    # Multiplikation Skalierung, Drehung  und Spiegelung an der x-Achse bereits vorgerechnet, siehe Dokumentation\n",
    "    # Abbildungsmatrix bestimmen\n",
    "    firstx = (round(np.cos(np.deg2rad(val3)),2))*val1\n",
    "    firsty = (round(np.sin(np.deg2rad(val3)),2))*-val1\n",
    "    secondx =(round(np.sin(np.deg2rad(val3)),2))*-val2\n",
    "    secondy = (round(np.cos(np.deg2rad(val3)),2))*-val2\n",
    "    \n",
    "# 13 Eigene Abbidlungsmatrix angeben\n",
    "if (auswahl==\"13\"):   \n",
    "    print(\"\")\n",
    "    e1wertx = input(\"Gebe den x-Wert von e1 an: \")\n",
    "    e1werty = input(\"Gebe den y-Wert von e1 an: \")\n",
    "    e2wertx = input(\"Gebe den x-Wert von e2 an: \")\n",
    "    e2werty = input(\"Gebe den y-Wert von e2 an: \")\n",
    "    firstx = float(e1wertx)\n",
    "    firsty = float(e1werty)\n",
    "    secondx =float(e2wertx)\n",
    "    secondy =float(e2werty)"
   ]
  },
  {
   "cell_type": "markdown",
   "metadata": {},
   "source": [
    "Anschliessend werden die neu berechneten Vektoren als verändertes Einheitsquadrat in ein zweites Koordinatensystem geplottet. Dabei werden die Punkte des Einheitsquadrates (0,0), (1,0), (1,1) (0,1) mit der Abbildungsmatrix multipliziert. Anhschliessend werden die Linien aneinander in das neue Koordinatensystem eingezeichnet. Ebenfalls wird auch die Abbildungsmatrix angezeigt:\n",
    "\n",
    "A * $\\left( \\begin{array}{r}\n",
    "1 \\\\                                              \n",
    "0 \\\\                                            \n",
    "\\end{array}\\right)$\n",
    "<br><br>\n",
    "A * $\\left( \\begin{array}{r}\n",
    "1 \\\\                                              \n",
    "1 \\\\                                            \n",
    "\\end{array}\\right)$\n",
    "<br><br>\n",
    "A * $\\left( \\begin{array}{r}\n",
    "0 \\\\                                              \n",
    "1 \\\\                                            \n",
    "\\end{array}\\right)$\n",
    "<br><br>\n",
    "Der Nullpunkt bleibt der Nullpunkt."
   ]
  },
  {
   "cell_type": "code",
   "execution_count": 5,
   "metadata": {},
   "outputs": [
    {
     "name": "stdout",
     "output_type": "stream",
     "text": [
      "\n",
      "Deine Abbildungsmatrix lautet: \n",
      "1 0\n",
      "0 -1\n",
      "\n",
      "Oder in Array Darstellung: \n",
      "[[ 1  0]\n",
      " [ 0 -1]]\n"
     ]
    },
    {
     "data": {
      "image/png": "[encoded data removed]",
      "text/plain": [
       "<Figure size 432x288 with 1 Axes>"
      ]
     },
     "metadata": {
      "needs_background": "light"
     },
     "output_type": "display_data"
    }
   ],
   "source": [
    "# Neue Vektoren plotten\n",
    "# blaue Linie\n",
    "blue2x = firstx*1+secondx*0\n",
    "blue2y = firsty*1+secondy*0\n",
    "blue1 = np.array([0, blue2x])\n",
    "blue2 = np.array([0, blue2y])\n",
    "# rote Linie\n",
    "red2x = firstx*1+secondx*1\n",
    "red2y = firsty*1+secondy*1\n",
    "red1 = np.array([blue2x, red2x])\n",
    "red2 = np.array([blue2y, red2y])\n",
    "# grüne Linie\n",
    "green2x = firstx*0+secondx*1\n",
    "green2y = firsty*0+secondy*1\n",
    "green1 = np.array([red2x, green2x])\n",
    "green2 = np.array([red2y, green2y])\n",
    "# purpurne Linie\n",
    "magenta1 = np.array([0, green2x])\n",
    "magenta2 = np.array([0, green2y])\n",
    "\n",
    "# Ausgabe\n",
    "print(\"\")\n",
    "print(\"Deine Abbildungsmatrix lautet: \")\n",
    "print(firstx, secondx)\n",
    "print(firsty, secondy)\n",
    "print(\"\")\n",
    "print(\"Oder in Array Darstellung: \")\n",
    "A = np.array([[firstx,secondx],[firsty,secondy]])\n",
    "print (A)\n",
    "# Koordinatensystem\n",
    "# Achsenlimitationen, Titel und Beschriftung\n",
    "plt2.axis('equal')\n",
    "plt2.axis( [-3,5,-3,5] )\n",
    "plt.axhline(0, color='black')\n",
    "plt.axvline(0, color='black')\n",
    "plt2.title('Lineare Algebra 1b') \n",
    "plt2.xlabel('x') \n",
    "plt2.ylabel('y') \n",
    "# Gitter\n",
    "plt2.grid(True)\n",
    "# neues Einheitsquadrat zeichnen mit Farben und Dicke der Linie\n",
    "plt2.plot(blue1,blue2, color='blue', linestyle='-', linewidth=3)\n",
    "plt2.plot(red1,red2, color='red', linestyle='-', linewidth=3)\n",
    "plt2.plot(green1,green2, color='green', linestyle='-', linewidth=3)\n",
    "plt2.plot(magenta1,magenta2, color='magenta', linestyle='-', linewidth=3)\n",
    "plt2.show()"
   ]
  },
  {
   "cell_type": "code",
   "execution_count": null,
   "metadata": {},
   "outputs": [],
   "source": []
  }
 ],
 "metadata": {
  "kernelspec": {
   "display_name": "Python 3",
   "language": "python",
   "name": "python3"
  },
  "language_info": {
   "codemirror_mode": {
    "name": "ipython",
    "version": 3
   },
   "file_extension": ".py",
   "mimetype": "text/x-python",
   "name": "python",
   "nbconvert_exporter": "python",
   "pygments_lexer": "ipython3",
   "version": "3.7.3"
  }
 },
 "nbformat": 4,
 "nbformat_minor": 2
}
