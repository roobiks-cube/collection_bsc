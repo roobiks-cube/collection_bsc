{
 "cells": [
  {
   "cell_type": "markdown",
   "metadata": {},
   "source": [
    "Created by Olivia Williams, FFHS 19"
   ]
  },
  {
   "cell_type": "markdown",
   "metadata": {},
   "source": [
    "# Teil 4 der Semesterarbeit: Page-Rank"
   ]
  },
  {
   "cell_type": "markdown",
   "metadata": {},
   "source": [
    "Es wird empfohlen das mitgegebene Dokument als zusätzliche Erklärung zu verwenden, das teilsweise Stellen besser erklärt werden als nur das Jupyter Notebook alleine. "
   ]
  },
  {
   "cell_type": "markdown",
   "metadata": {},
   "source": [
    "Import der Library numpy, um mit Matrizen rechnen zu können."
   ]
  },
  {
   "cell_type": "code",
   "execution_count": 1,
   "metadata": {},
   "outputs": [],
   "source": [
    "import numpy as np"
   ]
  },
  {
   "cell_type": "markdown",
   "metadata": {},
   "source": [
    "# Erster Fall mit angepasster Adjazenzmatrix: Anpassung der Adjazenzmatrix"
   ]
  },
  {
   "cell_type": "markdown",
   "metadata": {},
   "source": [
    "Als erstes soll die Matrix aufgebaut werden. In diesem Fall entspricht dies einer 7x7 Matrix. Die Einträge können aus dem mitgegebenen Dokument gelesen werden."
   ]
  },
  {
   "cell_type": "code",
   "execution_count": 2,
   "metadata": {},
   "outputs": [
    {
     "name": "stdout",
     "output_type": "stream",
     "text": [
      "[[0.         0.33333333 0.         0.         0.         0.33333333\n",
      "  0.        ]\n",
      " [0.5        0.         0.         0.         0.         0.33333333\n",
      "  0.        ]\n",
      " [0.         0.33333333 0.         0.         1.         0.\n",
      "  0.        ]\n",
      " [0.         0.         1.         0.         0.         0.\n",
      "  0.        ]\n",
      " [0.         0.         0.         1.         0.         0.\n",
      "  0.        ]\n",
      " [0.5        0.33333333 0.         0.         0.         0.\n",
      "  0.        ]\n",
      " [0.         0.         0.         0.         0.         0.33333333\n",
      "  0.        ]]\n"
     ]
    }
   ],
   "source": [
    "# Aufbau der Adjazenzmatrix mit insgesamt 49 Einträgen\n",
    "adjm = np.zeros((7,7))\n",
    "\n",
    "# erste Spalte\n",
    "adjm[0][0]= 0\n",
    "adjm[0][1]= 1/3\n",
    "adjm[0][2]= 0\n",
    "adjm[0][3]= 0\n",
    "adjm[0][4]= 0\n",
    "adjm[0][5]= 1/3\n",
    "adjm[0][6]= 0\n",
    "# zweite Spalte\n",
    "adjm[1][0]= 0.5\n",
    "adjm[1][1]= 0\n",
    "adjm[1][2]= 0\n",
    "adjm[1][3]= 0\n",
    "adjm[1][4]= 0\n",
    "adjm[1][5]= 1/3\n",
    "adjm[1][6]= 0\n",
    "# dritte Spalte\n",
    "adjm[2][0]= 0\n",
    "adjm[2][1]= 1/3\n",
    "adjm[2][2]= 0\n",
    "adjm[2][3]= 0\n",
    "adjm[2][4]= 1\n",
    "adjm[2][5]= 0\n",
    "adjm[2][6]= 0\n",
    "# vierte Spalte\n",
    "adjm[3][0]= 0\n",
    "adjm[3][1]= 0\n",
    "adjm[3][2]= 1\n",
    "adjm[3][3]= 0\n",
    "adjm[3][4]= 0\n",
    "adjm[3][5]= 0\n",
    "adjm[3][6]= 0\n",
    "# fünfte Spalte\n",
    "adjm[4][0]= 0\n",
    "adjm[4][1]= 0\n",
    "adjm[4][2]= 0\n",
    "adjm[4][3]= 1\n",
    "adjm[4][4]= 0\n",
    "adjm[4][5]= 0\n",
    "adjm[4][6]= 0\n",
    "# sechste Spalte\n",
    "adjm[5][0]= 0.5\n",
    "adjm[5][1]= 1/3\n",
    "adjm[5][2]= 0\n",
    "adjm[5][3]= 0\n",
    "adjm[5][4]= 0\n",
    "adjm[5][5]= 0\n",
    "adjm[5][6]= 0\n",
    "# siebte Spalte\n",
    "adjm[6][0]= 0\n",
    "adjm[6][1]= 0\n",
    "adjm[6][2]= 0\n",
    "adjm[6][3]= 0\n",
    "adjm[6][4]= 0\n",
    "adjm[6][5]= 1/3\n",
    "adjm[6][6]= 0\n",
    "print(adjm)"
   ]
  },
  {
   "cell_type": "markdown",
   "metadata": {},
   "source": [
    "Nun soll diese Matrix in eine Google Matrix überführt werden. Dies entspricht der Matrix M, die auf Seite 5 des mitgegebenen Dokuments gelesen werden kann. Um dies berechnen zu können, wird der Term in zwei Teile aufegtrennt und anschliessend wieder zusammengeführt. Somit wird zuerst der Term links von dem Pluszeichen berechnet. Dieser Teil entspricht der Berücksichtigung der eingebauten \"dangling page\". Also das erste dyadische Produkt entsteht aus dem Einheitsvektor und dem Vektor a. Wie dieser Vektor festgelegt werden kann, wird in dem mitgegebenen Dokument erklärt."
   ]
  },
  {
   "cell_type": "code",
   "execution_count": 3,
   "metadata": {},
   "outputs": [
    {
     "name": "stdout",
     "output_type": "stream",
     "text": [
      "[[0 0 0 0 0 0 1]\n",
      " [0 0 0 0 0 0 1]\n",
      " [0 0 0 0 0 0 1]\n",
      " [0 0 0 0 0 0 1]\n",
      " [0 0 0 0 0 0 1]\n",
      " [0 0 0 0 0 0 1]\n",
      " [0 0 0 0 0 0 1]]\n"
     ]
    }
   ],
   "source": [
    "# Berechnung der Google Matrix\n",
    "# Gemäss Seite 5 soll die Google Matrix berechnet werden\n",
    "# 1) Der Dämpfungsfaktor beta soll 0.8 betragen\n",
    "# 2) A entspricht der Adjazenzmatrix\n",
    "# 3) 1/n entspricht hier 1/7\n",
    "# 4) e entspricht hier dem Einheitsvektor [1,1,1,1,1,1,1]\n",
    "# 5) a entspricht hier [0,0,0,0,0,0,1], da nur in der letzten Zeile ein dangling page vorkommt\n",
    "# 6) (1 - beta) soll hier 0.2 betragen\n",
    "\n",
    "# Die erste Berechung der \"dangling pages\"\n",
    "# Als erster das dyadische Produkt von 4) und 5)\n",
    "e1 = np.array([1,1,1,1,1,1,1]) \n",
    "a1 = np.array([0,0,0,0,0,0,1])\n",
    "dyadisches_produkt1= np.outer(e1,a1)\n",
    "print(dyadisches_produkt1)"
   ]
  },
  {
   "cell_type": "markdown",
   "metadata": {},
   "source": [
    "Das erreichte dyadische Produkt wird nun mit dem Wert (1/7) multipliziert und in eine weitere Variable festgehalten."
   ]
  },
  {
   "cell_type": "code",
   "execution_count": 4,
   "metadata": {},
   "outputs": [
    {
     "name": "stdout",
     "output_type": "stream",
     "text": [
      "[[0.         0.         0.         0.         0.         0.\n",
      "  0.14285714]\n",
      " [0.         0.         0.         0.         0.         0.\n",
      "  0.14285714]\n",
      " [0.         0.         0.         0.         0.         0.\n",
      "  0.14285714]\n",
      " [0.         0.         0.         0.         0.         0.\n",
      "  0.14285714]\n",
      " [0.         0.         0.         0.         0.         0.\n",
      "  0.14285714]\n",
      " [0.         0.         0.         0.         0.         0.\n",
      "  0.14285714]\n",
      " [0.         0.         0.         0.         0.         0.\n",
      "  0.14285714]]\n"
     ]
    }
   ],
   "source": [
    "# Als zweites die Multiplikation des dyadischen Produkts mit dem Wert aus 3)\n",
    "dyadisches_produkt_mult =(1/7)*dyadisches_produkt1\n",
    "print(dyadisches_produkt_mult)"
   ]
  },
  {
   "cell_type": "markdown",
   "metadata": {},
   "source": [
    "Die Adjazenzmatrix und dyadisches_produkt_mult werden summiert."
   ]
  },
  {
   "cell_type": "code",
   "execution_count": 5,
   "metadata": {},
   "outputs": [
    {
     "name": "stdout",
     "output_type": "stream",
     "text": [
      "[[0.         0.33333333 0.         0.         0.         0.33333333\n",
      "  0.14285714]\n",
      " [0.5        0.         0.         0.         0.         0.33333333\n",
      "  0.14285714]\n",
      " [0.         0.33333333 0.         0.         1.         0.\n",
      "  0.14285714]\n",
      " [0.         0.         1.         0.         0.         0.\n",
      "  0.14285714]\n",
      " [0.         0.         0.         1.         0.         0.\n",
      "  0.14285714]\n",
      " [0.5        0.33333333 0.         0.         0.         0.\n",
      "  0.14285714]\n",
      " [0.         0.         0.         0.         0.         0.33333333\n",
      "  0.14285714]]\n"
     ]
    }
   ],
   "source": [
    "# Als drittes soll die Adjazenzmatrix und die vorhin berechnete Matrix summiert werden\n",
    "# Der Betrag in der ersten Klammer aus der Gleichung ist so bestimmt\n",
    "matrix = adjm+dyadisches_produkt_mult\n",
    "print(matrix)"
   ]
  },
  {
   "cell_type": "markdown",
   "metadata": {},
   "source": [
    "Nun soll der Term rechts von dem Pluszeichen berechnet werden. Das zweite dyadische Produkt aus den Einheitsvektoren e2 und a2 soll gebildet werden."
   ]
  },
  {
   "cell_type": "code",
   "execution_count": 6,
   "metadata": {},
   "outputs": [
    {
     "name": "stdout",
     "output_type": "stream",
     "text": [
      "[[1 1 1 1 1 1 1]\n",
      " [1 1 1 1 1 1 1]\n",
      " [1 1 1 1 1 1 1]\n",
      " [1 1 1 1 1 1 1]\n",
      " [1 1 1 1 1 1 1]\n",
      " [1 1 1 1 1 1 1]\n",
      " [1 1 1 1 1 1 1]]\n"
     ]
    }
   ],
   "source": [
    "# Als viertes soll das zweite dyadische Produkt aus dem zweiten Teil der Gleichung berechnet werden\n",
    "# Es handelt sich hierbei um die Teillösung für die \"spider traps\"\n",
    "e2 = np.array([1,1,1,1,1,1,1]) \n",
    "a2 = np.array([1,1,1,1,1,1,1])\n",
    "dyadisches_produkt2= np.outer(e2,a2)\n",
    "print(dyadisches_produkt2)"
   ]
  },
  {
   "cell_type": "markdown",
   "metadata": {},
   "source": [
    "Die berechneten Teile sollen un in eine Google Matrix zusammengeführt werden. "
   ]
  },
  {
   "cell_type": "code",
   "execution_count": 7,
   "metadata": {},
   "outputs": [
    {
     "name": "stdout",
     "output_type": "stream",
     "text": [
      "[[0.02857143 0.2952381  0.02857143 0.02857143 0.02857143 0.2952381\n",
      "  0.14285714]\n",
      " [0.42857143 0.02857143 0.02857143 0.02857143 0.02857143 0.2952381\n",
      "  0.14285714]\n",
      " [0.02857143 0.2952381  0.02857143 0.02857143 0.82857143 0.02857143\n",
      "  0.14285714]\n",
      " [0.02857143 0.02857143 0.82857143 0.02857143 0.02857143 0.02857143\n",
      "  0.14285714]\n",
      " [0.02857143 0.02857143 0.02857143 0.82857143 0.02857143 0.02857143\n",
      "  0.14285714]\n",
      " [0.42857143 0.2952381  0.02857143 0.02857143 0.02857143 0.02857143\n",
      "  0.14285714]\n",
      " [0.02857143 0.02857143 0.02857143 0.02857143 0.02857143 0.2952381\n",
      "  0.14285714]]\n"
     ]
    }
   ],
   "source": [
    "# Hier sollen die berechneten Teile als Google Matrix zusammengeführt werden\n",
    "# Dies entspricht der roten Gleichung auf der Seite 5\n",
    "Google_Matrix = 0.8*matrix + 0.2*(1/7)*dyadisches_produkt2\n",
    "print(Google_Matrix)"
   ]
  },
  {
   "cell_type": "markdown",
   "metadata": {},
   "source": [
    "Die Google Matrix soll nun auf vier Nachkommastellen gerundet werden."
   ]
  },
  {
   "cell_type": "code",
   "execution_count": 8,
   "metadata": {},
   "outputs": [
    {
     "name": "stdout",
     "output_type": "stream",
     "text": [
      "[[0.02857143 0.2952381  0.02857143 0.02857143 0.02857143 0.2952381\n",
      "  0.14285714]\n",
      " [0.42857143 0.02857143 0.02857143 0.02857143 0.02857143 0.2952381\n",
      "  0.14285714]\n",
      " [0.02857143 0.2952381  0.0286     0.0286     0.8286     0.0286\n",
      "  0.1429    ]\n",
      " [0.0286     0.0286     0.8286     0.0286     0.0286     0.0286\n",
      "  0.1429    ]\n",
      " [0.0286     0.0286     0.0286     0.8286     0.0286     0.0286\n",
      "  0.1429    ]\n",
      " [0.4286     0.2952     0.0286     0.0286     0.0286     0.0286\n",
      "  0.1429    ]\n",
      " [0.0286     0.0286     0.0286     0.0286     0.0286     0.2952\n",
      "  0.1429    ]]\n"
     ]
    }
   ],
   "source": [
    "# Die Google_Matrix soll auf vier Nachkommastellen gerundet werden\n",
    "# Erste Zeile\n",
    "Google_Matrix[2][2]=round(Google_Matrix[2][2],4)\n",
    "Google_Matrix[2][3]=round(Google_Matrix[2][3],4)\n",
    "Google_Matrix[2][4]=round(Google_Matrix[2][4],4)\n",
    "Google_Matrix[2][5]=round(Google_Matrix[2][5],4)\n",
    "Google_Matrix[2][6]=round(Google_Matrix[2][6],4)\n",
    "# Vierte Zeile\n",
    "Google_Matrix[3][0]=round(Google_Matrix[3][0],4)\n",
    "Google_Matrix[3][1]=round(Google_Matrix[3][1],4)\n",
    "Google_Matrix[3][2]=round(Google_Matrix[3][2],4)\n",
    "Google_Matrix[3][3]=round(Google_Matrix[3][3],4)\n",
    "Google_Matrix[3][4]=round(Google_Matrix[3][4],4)\n",
    "Google_Matrix[3][5]=round(Google_Matrix[3][5],4)\n",
    "Google_Matrix[3][6]=round(Google_Matrix[3][6],4)\n",
    "# Fünfte Zeile\n",
    "Google_Matrix[4][0]=round(Google_Matrix[4][0],4)\n",
    "Google_Matrix[4][1]=round(Google_Matrix[4][1],4)\n",
    "Google_Matrix[4][2]=round(Google_Matrix[4][2],4)\n",
    "Google_Matrix[4][3]=round(Google_Matrix[4][3],4)\n",
    "Google_Matrix[4][4]=round(Google_Matrix[4][4],4)\n",
    "Google_Matrix[4][5]=round(Google_Matrix[4][5],4)\n",
    "Google_Matrix[4][6]=round(Google_Matrix[4][6],4)\n",
    "# Sechste Zeile\n",
    "Google_Matrix[5][0]=round(Google_Matrix[5][0],4)\n",
    "Google_Matrix[5][1]=round(Google_Matrix[5][1],4)\n",
    "Google_Matrix[5][2]=round(Google_Matrix[5][2],4)\n",
    "Google_Matrix[5][3]=round(Google_Matrix[5][3],4)\n",
    "Google_Matrix[5][4]=round(Google_Matrix[5][4],4)\n",
    "Google_Matrix[5][5]=round(Google_Matrix[5][5],4)\n",
    "Google_Matrix[5][6]=round(Google_Matrix[5][6],4)\n",
    "# Siebte Zeile\n",
    "Google_Matrix[6][0]=round(Google_Matrix[6][0],4)\n",
    "Google_Matrix[6][1]=round(Google_Matrix[6][1],4)\n",
    "Google_Matrix[6][2]=round(Google_Matrix[6][2],4)\n",
    "Google_Matrix[6][3]=round(Google_Matrix[6][3],4)\n",
    "Google_Matrix[6][4]=round(Google_Matrix[6][4],4)\n",
    "Google_Matrix[6][5]=round(Google_Matrix[6][5],4)\n",
    "Google_Matrix[6][6]=round(Google_Matrix[6][6],4)\n",
    "print(Google_Matrix)"
   ]
  },
  {
   "cell_type": "markdown",
   "metadata": {},
   "source": [
    "# Erster Fall mit angepasster Adjazenzmatrix: Berechnung eines stationären Vektors"
   ]
  },
  {
   "cell_type": "markdown",
   "metadata": {},
   "source": [
    "Nun soll die berechnete Google Matrix auf Konvergenz untersucht werden. Dies bedeutet, das in einer Schleife ein Zustandvektor berechnet wird. Anschliessend innerhalb desselben Schleifendurchgangs wird der nächste Zustandsvektor berechnet, der erreicht wird, wenn die nächste Potenz angwendet wird: (A^n)*B und A^(n+1)*B.\n",
    "Nun können diese beiden Vektoren verglichen werden. Sollten diese mit drei Nachkommastellen übereinstimmen, so ist die Konvergenz erreicht."
   ]
  },
  {
   "cell_type": "markdown",
   "metadata": {},
   "source": [
    "Dazu soll ein Vektor B eingeführt werden, der dem Zustandvektor entspricht."
   ]
  },
  {
   "cell_type": "code",
   "execution_count": 9,
   "metadata": {},
   "outputs": [],
   "source": [
    "# Hier soll nun anhand der Potenzierung der Google Matrix und eine Multiplikation mit dem Zustandsvektor\n",
    "# eine Konvergenz erreicht werden. Anhand einer einfachen Schleife wird das nächste Ergebnis mit dem vorangegangenen Ergebnis\n",
    "# verglichen. Sollten diese Ergebnisse gleich sein, ist die Konvergenz erreicht.\n",
    "\n",
    "# Vektor B, die dem Zustandsvektor entspricht, angefangen mit den Werten 1/7\n",
    "B = np.array([[1/7],[1/7],[1/7],[1/7],[1/7],[1/7],[1/7]])  "
   ]
  },
  {
   "cell_type": "markdown",
   "metadata": {},
   "source": [
    "Als nächstes soll in die Variable A die Google Matrix kopiert werden."
   ]
  },
  {
   "cell_type": "code",
   "execution_count": 10,
   "metadata": {},
   "outputs": [],
   "source": [
    "# Matrix A entspricht dem \"Container\", angefangen mit den Google Matrix Werten\n",
    "# Diese Matrix wird iterativ mit den Google Matrix Werten multipliziert und am Ende mit dem Zustandsvektor ebenfalls multipliziert\n",
    "# Dieser errechnete Wert wird mit dem vorangegangenen Wert verglichen. Sind sich diese nahe genug (drei Nachkommastellen), so handelt es sich\n",
    "# um eine Konvergenz\n",
    "A = Google_Matrix.copy()"
   ]
  },
  {
   "cell_type": "markdown",
   "metadata": {},
   "source": [
    "In einem nächsten Schritt wird die Schleife betreten, die bis zum Wert 20 iteriert wird. Zuerst werden die Matrizen miteinander multipliziert und anschliessend mit B. In einem dritten Schritt wird dies für den nächsten Zustandsvektor wiederholt. Die Werte werden anschliessend gerundet."
   ]
  },
  {
   "cell_type": "markdown",
   "metadata": {},
   "source": [
    "Mit einer einfachen if Anweisung sollen nun die errechneten Zustandsvektoren verglichen werden. Gibt es eine Übereinstimmung, so ist die Konvergenz gefunden."
   ]
  },
  {
   "cell_type": "code",
   "execution_count": 11,
   "metadata": {},
   "outputs": [
    {
     "name": "stdout",
     "output_type": "stream",
     "text": [
      "Noch keine Konvergenz bei 0 erreicht\n",
      "\n",
      "Noch keine Konvergenz bei 1 erreicht\n",
      "\n",
      "Noch keine Konvergenz bei 2 erreicht\n",
      "\n",
      "Noch keine Konvergenz bei 3 erreicht\n",
      "\n",
      "Noch keine Konvergenz bei 4 erreicht\n",
      "\n",
      "Noch keine Konvergenz bei 5 erreicht\n",
      "\n",
      "Noch keine Konvergenz bei 6 erreicht\n",
      "\n",
      "Noch keine Konvergenz bei 7 erreicht\n",
      "\n",
      "Noch keine Konvergenz bei 8 erreicht\n",
      "\n",
      "Eine annehmbare Konvergenz ist bei 9 erreicht\n",
      "Dies entspricht einem Vergleich zwischen den Klicks 20 und 21\n",
      "Der anzunehmbare sationäre Vektor lautet dazu: \n",
      "\n",
      "[[0.087]\n",
      " [0.096]\n",
      " [0.231]\n",
      " [0.22 ]\n",
      " [0.212]\n",
      " [0.096]\n",
      " [0.061]]\n",
      "\n"
     ]
    }
   ],
   "source": [
    "i=0\n",
    "while i <= 20:\n",
    "    # Erster Schritt, Multiplikation der Matrizen\n",
    "    A=np.dot(A,Google_Matrix)\n",
    "    # Zweiter Schritt, Multiplikation mit dem Zustandsvektor \n",
    "    nZ=np.dot(A,B)\n",
    "    \n",
    "    # Dritter Schritt, nächste Potenz\n",
    "    A=np.dot(A,Google_Matrix)\n",
    "    # Vierter Schitt, nächster Zustandsvektor bestimmen\n",
    "    nZ2=np.dot(A,B)\n",
    "    \n",
    "    # Fünfter Schritt, Vektoren vergleichen\n",
    "    # Sollten diese mit drei Nachkommastellen übereinstimmten, ist die Konvergenz erreicht\n",
    "    # Zuerst sollen die Werte gerundet werden\n",
    "    # nZ gerundet\n",
    "    nZ[0]=np.round(nZ[0],3)\n",
    "    nZ[1]=np.round(nZ[1],3)\n",
    "    nZ[2]=np.round(nZ[2],3)\n",
    "    nZ[3]=np.round(nZ[3],3)\n",
    "    nZ[4]=np.round(nZ[4],3)\n",
    "    nZ[5]=np.round(nZ[5],3)\n",
    "    nZ[6]=np.round(nZ[6],3)\n",
    "    # nZ2 gerundet\n",
    "    nZ2[0]=np.round(nZ2[0],3)\n",
    "    nZ2[1]=np.round(nZ2[1],3)\n",
    "    nZ2[2]=np.round(nZ2[2],3)\n",
    "    nZ2[3]=np.round(nZ2[3],3)\n",
    "    nZ2[4]=np.round(nZ2[4],3)\n",
    "    nZ2[5]=np.round(nZ2[5],3)\n",
    "    nZ2[6]=np.round(nZ2[6],3)\n",
    "    \n",
    "    if nZ[0]==nZ2[0] and nZ[1]==nZ2[1] and nZ[2]==nZ2[2] and nZ[3]==nZ2[3] and nZ[4]==nZ2[4] and nZ[5]==nZ2[5] and nZ[6]==nZ2[6]:\n",
    "        print(\"Eine annehmbare Konvergenz ist bei \"+ str(i) + \" erreicht\")\n",
    "        k1 = (i*2)+2\n",
    "        k2 = k1+1\n",
    "        print(\"Dies entspricht einem Vergleich zwischen den Klicks \" + str(k1) + \" und \" + str(k2))\n",
    "        print(\"Der anzunehmbare sationäre Vektor lautet dazu: \")\n",
    "        print(\"\")\n",
    "        print(nZ)\n",
    "        print(\"\")\n",
    "        break;  \n",
    "    else:\n",
    "        print(\"Noch keine Konvergenz bei \" + str(i) + \" erreicht\")\n",
    "        print(\"\")\n",
    "    i  += 1"
   ]
  },
  {
   "cell_type": "markdown",
   "metadata": {},
   "source": [
    "# Zweiter Fall mit unangepasster Adjazenzmatrix: Berechnung der Zustandsvektoren"
   ]
  },
  {
   "cell_type": "markdown",
   "metadata": {},
   "source": [
    "Nun sollen die Zustandsvektoren in dem gleichen Schleifendurchgang ausgegeben werden. Nur in diesem Fall wird nicht mit der Google Matrix gerechnet, sondern mit der Ausgangmatrix adjm, die ganz am Anfang bestimmt wurde. In die Variable A wird adjm kopiert und der Vektor B wird erneut erwähnt. Der Schleifendurchgang wird nun bis 9 berücksichtig, dieser Wert entspricht dem erreichten Wert aus dem ersten Schleifendurchgang. Es wird ebenfalls der erste und nachfolgende Zustandsvektor berechnet, gerundet und dieses Mal direkt ausgegeben, also wird kein Vergleich angestellt."
   ]
  },
  {
   "cell_type": "code",
   "execution_count": 12,
   "metadata": {},
   "outputs": [
    {
     "name": "stdout",
     "output_type": "stream",
     "text": [
      "In einer gleichen Schleife wie oben sollen nun die Zustandsvektoren der unbehandelten Adjanzenzmatrix adjm berechnet werden.\n",
      "Die berechneten Zustandsvektoren bis j= 9 sollen hier ausgegeben werden. Deren Entwicklung ist Gegenstand der Untersuchung:\n",
      "\n",
      "A potenziert mit 2 multipliziert mit 1/7 (Vektor B) ergibt: \n",
      "\n",
      "[[0.079]\n",
      " [0.087]\n",
      " [0.183]\n",
      " [0.19 ]\n",
      " [0.143]\n",
      " [0.087]\n",
      " [0.04 ]]\n",
      "\n",
      "A potenziert mit 3 multipliziert mit 1/7 (Vektor B) ergibt: \n",
      "\n",
      "[[0.058]\n",
      " [0.069]\n",
      " [0.172]\n",
      " [0.183]\n",
      " [0.19 ]\n",
      " [0.069]\n",
      " [0.029]]\n",
      "\n",
      "\n",
      "A potenziert mit 4 multipliziert mit 1/7 (Vektor B) ergibt: \n",
      "\n",
      "[[0.046]\n",
      " [0.052]\n",
      " [0.213]\n",
      " [0.172]\n",
      " [0.183]\n",
      " [0.052]\n",
      " [0.023]]\n",
      "\n",
      "A potenziert mit 5 multipliziert mit 1/7 (Vektor B) ergibt: \n",
      "\n",
      "[[0.035]\n",
      " [0.04 ]\n",
      " [0.2  ]\n",
      " [0.213]\n",
      " [0.172]\n",
      " [0.04 ]\n",
      " [0.017]]\n",
      "\n",
      "\n",
      "A potenziert mit 6 multipliziert mit 1/7 (Vektor B) ergibt: \n",
      "\n",
      "[[0.027]\n",
      " [0.031]\n",
      " [0.185]\n",
      " [0.2  ]\n",
      " [0.213]\n",
      " [0.031]\n",
      " [0.013]]\n",
      "\n",
      "A potenziert mit 7 multipliziert mit 1/7 (Vektor B) ergibt: \n",
      "\n",
      "[[0.021]\n",
      " [0.024]\n",
      " [0.224]\n",
      " [0.185]\n",
      " [0.2  ]\n",
      " [0.024]\n",
      " [0.01 ]]\n",
      "\n",
      "\n",
      "A potenziert mit 8 multipliziert mit 1/7 (Vektor B) ergibt: \n",
      "\n",
      "[[0.016]\n",
      " [0.018]\n",
      " [0.208]\n",
      " [0.224]\n",
      " [0.185]\n",
      " [0.018]\n",
      " [0.008]]\n",
      "\n",
      "A potenziert mit 9 multipliziert mit 1/7 (Vektor B) ergibt: \n",
      "\n",
      "[[0.012]\n",
      " [0.014]\n",
      " [0.191]\n",
      " [0.208]\n",
      " [0.224]\n",
      " [0.014]\n",
      " [0.006]]\n",
      "\n",
      "\n",
      "A potenziert mit 10 multipliziert mit 1/7 (Vektor B) ergibt: \n",
      "\n",
      "[[0.009]\n",
      " [0.011]\n",
      " [0.228]\n",
      " [0.191]\n",
      " [0.208]\n",
      " [0.011]\n",
      " [0.005]]\n",
      "\n",
      "A potenziert mit 11 multipliziert mit 1/7 (Vektor B) ergibt: \n",
      "\n",
      "[[0.007]\n",
      " [0.008]\n",
      " [0.211]\n",
      " [0.228]\n",
      " [0.191]\n",
      " [0.008]\n",
      " [0.004]]\n",
      "\n",
      "\n",
      "A potenziert mit 12 multipliziert mit 1/7 (Vektor B) ergibt: \n",
      "\n",
      "[[0.005]\n",
      " [0.006]\n",
      " [0.194]\n",
      " [0.211]\n",
      " [0.228]\n",
      " [0.006]\n",
      " [0.003]]\n",
      "\n",
      "A potenziert mit 13 multipliziert mit 1/7 (Vektor B) ergibt: \n",
      "\n",
      "[[0.004]\n",
      " [0.005]\n",
      " [0.23 ]\n",
      " [0.194]\n",
      " [0.211]\n",
      " [0.005]\n",
      " [0.002]]\n",
      "\n",
      "\n",
      "A potenziert mit 14 multipliziert mit 1/7 (Vektor B) ergibt: \n",
      "\n",
      "[[0.003]\n",
      " [0.004]\n",
      " [0.213]\n",
      " [0.23 ]\n",
      " [0.194]\n",
      " [0.004]\n",
      " [0.002]]\n",
      "\n",
      "A potenziert mit 15 multipliziert mit 1/7 (Vektor B) ergibt: \n",
      "\n",
      "[[0.002]\n",
      " [0.003]\n",
      " [0.195]\n",
      " [0.213]\n",
      " [0.23 ]\n",
      " [0.003]\n",
      " [0.001]]\n",
      "\n",
      "\n",
      "A potenziert mit 16 multipliziert mit 1/7 (Vektor B) ergibt: \n",
      "\n",
      "[[0.002]\n",
      " [0.002]\n",
      " [0.231]\n",
      " [0.195]\n",
      " [0.213]\n",
      " [0.002]\n",
      " [0.001]]\n",
      "\n",
      "A potenziert mit 17 multipliziert mit 1/7 (Vektor B) ergibt: \n",
      "\n",
      "[[0.001]\n",
      " [0.002]\n",
      " [0.214]\n",
      " [0.231]\n",
      " [0.195]\n",
      " [0.002]\n",
      " [0.001]]\n",
      "\n",
      "\n",
      "A potenziert mit 18 multipliziert mit 1/7 (Vektor B) ergibt: \n",
      "\n",
      "[[0.001]\n",
      " [0.001]\n",
      " [0.196]\n",
      " [0.214]\n",
      " [0.231]\n",
      " [0.001]\n",
      " [0.001]]\n",
      "\n",
      "A potenziert mit 19 multipliziert mit 1/7 (Vektor B) ergibt: \n",
      "\n",
      "[[0.001]\n",
      " [0.001]\n",
      " [0.232]\n",
      " [0.196]\n",
      " [0.214]\n",
      " [0.001]\n",
      " [0.   ]]\n",
      "\n",
      "\n",
      "A potenziert mit 20 multipliziert mit 1/7 (Vektor B) ergibt: \n",
      "\n",
      "[[0.001]\n",
      " [0.001]\n",
      " [0.214]\n",
      " [0.232]\n",
      " [0.196]\n",
      " [0.001]\n",
      " [0.   ]]\n",
      "\n",
      "A potenziert mit 21 multipliziert mit 1/7 (Vektor B) ergibt: \n",
      "\n",
      "[[0.001]\n",
      " [0.001]\n",
      " [0.196]\n",
      " [0.214]\n",
      " [0.232]\n",
      " [0.001]\n",
      " [0.   ]]\n",
      "\n"
     ]
    }
   ],
   "source": [
    "# Mit der unbehandelten Adjanzenmatrix soll nun auch in einer Schleife gesehen werden, wie sich der Zustandsvektor bis i, in diesem\n",
    "# Falle 9, verändert und ob sich daraus tatsächlich eine rasche Konvergenz gegen null entwickelt.\n",
    "print(\"In einer gleichen Schleife wie oben sollen nun die Zustandsvektoren der unbehandelten Adjanzenzmatrix adjm berechnet werden.\")\n",
    "print(\"Die berechneten Zustandsvektoren bis j= \" +str(i)+ \" sollen hier ausgegeben werden. Deren Entwicklung ist Gegenstand der Untersuchung:\")\n",
    "\n",
    "# Eine Kopie der Matrix adjm, der unbehandelten Matrix in die Variable A\n",
    "A = adjm.copy()\n",
    "\n",
    "# Vektor B, die dem vorangegangenen Zustandsvektor entspricht, angefangen mit den Werten 1/7\n",
    "B = np.array([[1/7],[1/7],[1/7],[1/7],[1/7],[1/7],[1/7]]) \n",
    "\n",
    "j=0\n",
    "while j <= i:\n",
    "    # Erster Schritt, Multiplikation der Matrizen, dieses mal nicht die Google Matrix, sondern die Matrix adjm \n",
    "    A=np.dot(A,adjm)\n",
    "    # Zweiter Schritt, Multiplikation mit dem Zustandsvektor \n",
    "    nZ=np.dot(A,B)\n",
    "    \n",
    "    # Dritter Schritt, nächste Potenz\n",
    "    A=np.dot(A,adjm)\n",
    "    # Vierter Schitt, nächster Zustandsvektor bestimmen\n",
    "    nZ2=np.dot(A,B)\n",
    "    \n",
    "    # Die Werte sollen mit drei Nachkommastellen gerundet werden\n",
    "    nZ[0]=np.round(nZ[0],3)\n",
    "    nZ[1]=np.round(nZ[1],3)\n",
    "    nZ[2]=np.round(nZ[2],3)\n",
    "    nZ[3]=np.round(nZ[3],3)\n",
    "    nZ[4]=np.round(nZ[4],3)\n",
    "    nZ[5]=np.round(nZ[5],3)\n",
    "    nZ[6]=np.round(nZ[6],3)\n",
    "    # nZ2 gerundet\n",
    "    nZ2[0]=np.round(nZ2[0],3)\n",
    "    nZ2[1]=np.round(nZ2[1],3)\n",
    "    nZ2[2]=np.round(nZ2[2],3)\n",
    "    nZ2[3]=np.round(nZ2[3],3)\n",
    "    nZ2[4]=np.round(nZ2[4],3)\n",
    "    nZ2[5]=np.round(nZ2[5],3)\n",
    "    nZ2[6]=np.round(nZ2[6],3)\n",
    "    \n",
    "    # Nun sollen alle Zustandsvektoren ausgegeben werden\n",
    "    print(\"\")\n",
    "    print(\"A potenziert mit \" + str((j*2)+2) + \" multipliziert mit 1/7 (Vektor B) ergibt: \")\n",
    "    print(\"\")\n",
    "    print(nZ)\n",
    "    print(\"\")\n",
    "    print(\"A potenziert mit \" + str((j*2)+2+1) + \" multipliziert mit 1/7 (Vektor B) ergibt: \")\n",
    "    print(\"\")\n",
    "    print(nZ2)\n",
    "    print(\"\")\n",
    "    j  += 1"
   ]
  },
  {
   "cell_type": "markdown",
   "metadata": {},
   "source": [
    "Die Interpretation der Resultate kann im Dokument unter \"Interpretation des Resultats\" nachvollzogen werden."
   ]
  },
  {
   "cell_type": "markdown",
   "metadata": {},
   "source": [
    "# Zweiter Fall mit unangepasster Adjazenzmatrix: Zusätzliche Untersuchung der Konvergenz"
   ]
  },
  {
   "cell_type": "markdown",
   "metadata": {},
   "source": [
    "Es soll hier nun gesehen werden, ob eine Konvergenz mit der unangepassten Adjazenzmatrix erreicht werden kann. Gemäss der Erklärung des Dokuments sollte dies nicht der Fall sein, für mehr siehe bitte das Dokument. Dazu wird die erste Schleife erneut angewendet, nur in diesem Falle wird nicht die Google Matrix als Grundlage der Berechnungen verwendet, sondern die Ausgangsmatrix adjm, die jedoch in dieselbe Matrix gegeben wird."
   ]
  },
  {
   "cell_type": "code",
   "execution_count": 13,
   "metadata": {},
   "outputs": [
    {
     "name": "stdout",
     "output_type": "stream",
     "text": [
      "Noch keine Konvergenz bei 0 erreicht\n",
      "\n",
      "Noch keine Konvergenz bei 1 erreicht\n",
      "\n",
      "Noch keine Konvergenz bei 2 erreicht\n",
      "\n",
      "Noch keine Konvergenz bei 3 erreicht\n",
      "\n",
      "Noch keine Konvergenz bei 4 erreicht\n",
      "\n",
      "Noch keine Konvergenz bei 5 erreicht\n",
      "\n",
      "Noch keine Konvergenz bei 6 erreicht\n",
      "\n",
      "Noch keine Konvergenz bei 7 erreicht\n",
      "\n",
      "Noch keine Konvergenz bei 8 erreicht\n",
      "\n",
      "Noch keine Konvergenz bei 9 erreicht\n",
      "\n",
      "Noch keine Konvergenz bei 10 erreicht\n",
      "\n",
      "Noch keine Konvergenz bei 11 erreicht\n",
      "\n",
      "Noch keine Konvergenz bei 12 erreicht\n",
      "\n",
      "Noch keine Konvergenz bei 13 erreicht\n",
      "\n",
      "Noch keine Konvergenz bei 14 erreicht\n",
      "\n",
      "Noch keine Konvergenz bei 15 erreicht\n",
      "\n",
      "Noch keine Konvergenz bei 16 erreicht\n",
      "\n",
      "Noch keine Konvergenz bei 17 erreicht\n",
      "\n",
      "Noch keine Konvergenz bei 18 erreicht\n",
      "\n",
      "Noch keine Konvergenz bei 19 erreicht\n",
      "\n",
      "Noch keine Konvergenz bei 20 erreicht\n",
      "\n"
     ]
    }
   ],
   "source": [
    "B = np.array([[1/7],[1/7],[1/7],[1/7],[1/7],[1/7],[1/7]])\n",
    "Google_Matrix = adjm\n",
    "A = Google_Matrix.copy()\n",
    "\n",
    "i=0\n",
    "while i <= 20:\n",
    "    # Erster Schritt, Multiplikation der Matrizen\n",
    "    A=np.dot(A,Google_Matrix)\n",
    "    # Zweiter Schritt, Multiplikation mit dem Zustandsvektor \n",
    "    nZ=np.dot(A,B)\n",
    "    \n",
    "    # Dritter Schritt, nächste Potenz\n",
    "    A=np.dot(A,Google_Matrix)\n",
    "    # Vierter Schitt, nächster Zustandsvektor bestimmen\n",
    "    nZ2=np.dot(A,B)\n",
    "    \n",
    "    # Fünfter Schritt, Vektoren vergleichen\n",
    "    # Sollten diese mit drei Nachkommastellen übereinstimmten, ist die Konvergenz erreicht\n",
    "    # Zuerst sollen die Werte gerundet werden\n",
    "    # nZ gerundet\n",
    "    nZ[0]=np.round(nZ[0],3)\n",
    "    nZ[1]=np.round(nZ[1],3)\n",
    "    nZ[2]=np.round(nZ[2],3)\n",
    "    nZ[3]=np.round(nZ[3],3)\n",
    "    nZ[4]=np.round(nZ[4],3)\n",
    "    nZ[5]=np.round(nZ[5],3)\n",
    "    nZ[6]=np.round(nZ[6],3)\n",
    "    # nZ2 gerundet\n",
    "    nZ2[0]=np.round(nZ2[0],3)\n",
    "    nZ2[1]=np.round(nZ2[1],3)\n",
    "    nZ2[2]=np.round(nZ2[2],3)\n",
    "    nZ2[3]=np.round(nZ2[3],3)\n",
    "    nZ2[4]=np.round(nZ2[4],3)\n",
    "    nZ2[5]=np.round(nZ2[5],3)\n",
    "    nZ2[6]=np.round(nZ2[6],3)\n",
    "    \n",
    "    if nZ[0]==nZ2[0] and nZ[1]==nZ2[1] and nZ[2]==nZ2[2] and nZ[3]==nZ2[3] and nZ[4]==nZ2[4] and nZ[5]==nZ2[5] and nZ[6]==nZ2[6]:\n",
    "        print(\"Eine annehmbare Konvergenz ist bei \"+ str(i) + \" erreicht\")\n",
    "        k1 = (i*2)+2\n",
    "        k2 = k1+1\n",
    "        print(\"Dies entspricht einem Vergleich zwischen den Klicks \" + str(k1) + \" und \" + str(k2))\n",
    "        print(\"Der anzunehmbare sationäre Vektor lautet dazu: \")\n",
    "        print(\"\")\n",
    "        print(nZ)\n",
    "        print(\"\")\n",
    "        break;  \n",
    "    else:\n",
    "        print(\"Noch keine Konvergenz bei \" + str(i) + \" erreicht\")\n",
    "        print(\"\")\n",
    "    i  += 1"
   ]
  },
  {
   "cell_type": "markdown",
   "metadata": {},
   "source": [
    "Die Konvergenz wird nicht erreicht."
   ]
  }
 ],
 "metadata": {
  "kernelspec": {
   "display_name": "Python 3",
   "language": "python",
   "name": "python3"
  },
  "language_info": {
   "codemirror_mode": {
    "name": "ipython",
    "version": 3
   },
   "file_extension": ".py",
   "mimetype": "text/x-python",
   "name": "python",
   "nbconvert_exporter": "python",
   "pygments_lexer": "ipython3",
   "version": "3.7.3"
  }
 },
 "nbformat": 4,
 "nbformat_minor": 2
}
